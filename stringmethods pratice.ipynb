{
 "cells": [
  {
   "cell_type": "code",
   "execution_count": 14,
   "id": "0eb6b89d",
   "metadata": {},
   "outputs": [
    {
     "name": "stdout",
     "output_type": "stream",
     "text": [
      "Converts all characters in a string to uppercase\n",
      "converted text is:  HELLO WORLD\n"
     ]
    }
   ],
   "source": [
    "str1 = \"hello world\"\n",
    "print(\"Converts all characters in a string to uppercase\")\n",
    "print(\"converted text is: \", str1.upper())\n"
   ]
  },
  {
   "cell_type": "markdown",
   "id": "4c6e7876",
   "metadata": {},
   "source": [
    "lower() : Converts all characters in a string to lowercase."
   ]
  },
  {
   "cell_type": "code",
   "execution_count": 15,
   "id": "75d1c18b",
   "metadata": {},
   "outputs": [
    {
     "name": "stdout",
     "output_type": "stream",
     "text": [
      "Converts all characters in a string to lowercase.\n",
      "i am fine\n"
     ]
    }
   ],
   "source": [
    "str2 = \"I AM FINE\"\n",
    "print(\"Converts all characters in a string to lowercase.\")\n",
    "print(str2.lower())"
   ]
  },
  {
   "cell_type": "markdown",
   "id": "ff4a4b73",
   "metadata": {},
   "source": [
    "strip() : Remove spaces at the beginning and at the end of the string or Remove Whitespaces"
   ]
  },
  {
   "cell_type": "code",
   "execution_count": 25,
   "id": "ee20f1b3",
   "metadata": {},
   "outputs": [
    {
     "name": "stdout",
     "output_type": "stream",
     "text": [
      "strip method allows us to Remove spaces at the beginning and at the end of the string or Remove Whitespaces\n",
      "apple pie\n"
     ]
    }
   ],
   "source": [
    "print(\"strip method allows us to Remove spaces at the beginning and at the end of the string or Remove Whitespaces\")\n",
    "str3 = \"......apple pie,,,,,,\"\n",
    "print(str3.strip(\".,\"))\n"
   ]
  },
  {
   "cell_type": "code",
   "execution_count": 26,
   "id": "16b77591",
   "metadata": {},
   "outputs": [
    {
     "name": "stdout",
     "output_type": "stream",
     "text": [
      "berries are cheap in walmart and cranberries are expensive in walmart\n"
     ]
    }
   ],
   "source": [
    "b = \"berries\"\n",
    "c = \"cranberries\"\n",
    "str4 = b.strip()\n",
    "print(b, \"are cheap in walmart\" , \"and\", c, \"are expensive in walmart\")"
   ]
  },
  {
   "cell_type": "markdown",
   "id": "73106645",
   "metadata": {},
   "source": [
    " split() : Splits a string into a list of substrings "
   ]
  },
  {
   "cell_type": "code",
   "execution_count": 18,
   "id": "bc7d53b7",
   "metadata": {},
   "outputs": [
    {
     "name": "stdout",
     "output_type": "stream",
     "text": [
      "['all', ' my friends', ' are toxic', ' oh!']\n",
      "['all', 'my', 'friends', 'are', 'toxic']\n"
     ]
    }
   ],
   "source": [
    "str5 = \"all my friends are toxic\"\n",
    "str6 = \"all, my friends, are toxic, oh!\"\n",
    "text = str6.split(\",\")\n",
    "print(text)                  \n",
    "print(str5.split())\n"
   ]
  },
  {
   "cell_type": "markdown",
   "id": "7ff29ff1",
   "metadata": {},
   "source": [
    "replace(): Replaces occurrences of a substring with another substring"
   ]
  },
  {
   "cell_type": "code",
   "execution_count": 19,
   "id": "d5b930de",
   "metadata": {},
   "outputs": [
    {
     "name": "stdout",
     "output_type": "stream",
     "text": [
      "Replaces occurrences of a substring with another substring \n",
      "you are my monica to my rachel\n"
     ]
    }
   ],
   "source": [
    "str7 = \"you are my monica to my chandler\"\n",
    "print(\"Replaces occurrences of a substring with another substring \")\n",
    "print(str7.replace(\"chandler\",\"rachel\"))"
   ]
  },
  {
   "cell_type": "markdown",
   "id": "f0c2eda0",
   "metadata": {},
   "source": [
    "find() : Returns the index of the first occurrence of a substring. Returns -1 if not found."
   ]
  },
  {
   "cell_type": "code",
   "execution_count": 12,
   "id": "4aa3a5e8",
   "metadata": {},
   "outputs": [
    {
     "name": "stdout",
     "output_type": "stream",
     "text": [
      "8\n"
     ]
    }
   ],
   "source": [
    "txt = \"hello world\"\n",
    "str8 = txt.find(\"rld\")\n",
    "#str8 = txt.find(\"o\",6,11)\n",
    "print(str8)"
   ]
  },
  {
   "cell_type": "markdown",
   "id": "4a336561",
   "metadata": {},
   "source": [
    "str.isalnum() : method returns True if all the characters are alphanumeric, meaning alphabet letter (a-z) and numbers (0-9)\n"
   ]
  },
  {
   "cell_type": "code",
   "execution_count": 1,
   "id": "cafaeaa8",
   "metadata": {},
   "outputs": [
    {
     "name": "stdout",
     "output_type": "stream",
     "text": [
      "True\n"
     ]
    }
   ],
   "source": [
    "str9 = \"19\"\n",
    "print(str9.isalnum())"
   ]
  },
  {
   "cell_type": "markdown",
   "id": "b2a40b08",
   "metadata": {},
   "source": [
    "str.isalpha() :method returns True if all the characters are only alphabet letters (a-z).\n",
    "        "
   ]
  },
  {
   "cell_type": "code",
   "execution_count": 36,
   "id": "ed48f618",
   "metadata": {},
   "outputs": [
    {
     "name": "stdout",
     "output_type": "stream",
     "text": [
      "True\n"
     ]
    }
   ],
   "source": [
    "text = \"snow\"\n",
    "str10 = text.isalpha()\n",
    "print(str10)"
   ]
  },
  {
   "cell_type": "markdown",
   "id": "bde2f3ac",
   "metadata": {},
   "source": [
    "str.isnumeric() : Returns True if all characters in the string are numeric\n"
   ]
  },
  {
   "cell_type": "code",
   "execution_count": 37,
   "id": "ec8ff41d",
   "metadata": {},
   "outputs": [
    {
     "name": "stdout",
     "output_type": "stream",
     "text": [
      "True\n"
     ]
    }
   ],
   "source": [
    "str11 = \"1016\"\n",
    "print(str11.isnumeric())"
   ]
  },
  {
   "cell_type": "markdown",
   "id": "c9e2e7a5",
   "metadata": {},
   "source": [
    "str.islower() : Returns True if all characters in the string are lower case"
   ]
  },
  {
   "cell_type": "code",
   "execution_count": 38,
   "id": "302639ed",
   "metadata": {},
   "outputs": [
    {
     "name": "stdout",
     "output_type": "stream",
     "text": [
      "True\n"
     ]
    }
   ],
   "source": [
    "abc = \"it is snowy outside\"\n",
    "text = abc.islower()\n",
    "print(text)"
   ]
  },
  {
   "cell_type": "markdown",
   "id": "f1fc81f6",
   "metadata": {},
   "source": [
    "str.isupper() : Returns True if all characters in the string are upper case\n"
   ]
  },
  {
   "cell_type": "code",
   "execution_count": 39,
   "id": "81e81910",
   "metadata": {},
   "outputs": [
    {
     "name": "stdout",
     "output_type": "stream",
     "text": [
      "True\n"
     ]
    }
   ],
   "source": [
    "abc = \"IT IS SNOWY OUTSIDE\"\n",
    "text = abc.isupper()\n",
    "print(text)"
   ]
  },
  {
   "cell_type": "markdown",
   "id": "2929b73c",
   "metadata": {},
   "source": [
    "str.istitle() : Returns True if the string follows the rules of a title, means method returns True if all words in a text start with a upper case letter, AND the rest of the word are lower case letters, otherwise False.\n",
    "Symbols and numbers are ignored.\n"
   ]
  },
  {
   "cell_type": "code",
   "execution_count": 42,
   "id": "d7a6beec",
   "metadata": {},
   "outputs": [
    {
     "name": "stdout",
     "output_type": "stream",
     "text": [
      "(True, True, False)\n"
     ]
    }
   ],
   "source": [
    "a = \" It Is Snowy Outside\"\n",
    "b = \"It Is Snoy Outside On Jan 19\"\n",
    "c = \"it is snowy on jan 19\"\n",
    "str12 = a.istitle() , b.istitle() , c.istitle()\n",
    "print(str12)"
   ]
  },
  {
   "cell_type": "markdown",
   "id": "3c36f322",
   "metadata": {},
   "source": [
    "str.isspace() : Returns True if all characters in the string are whitespaces\n"
   ]
  },
  {
   "cell_type": "code",
   "execution_count": 44,
   "id": "71aef6f2",
   "metadata": {},
   "outputs": [
    {
     "name": "stdout",
     "output_type": "stream",
     "text": [
      "True False\n"
     ]
    }
   ],
   "source": [
    "str13 = \"   \" \n",
    "str14 = \"  snowy  \"\n",
    "print(str13.isspace() , str14.isspace())"
   ]
  },
  {
   "cell_type": "markdown",
   "id": "b039f3fa",
   "metadata": {},
   "source": [
    "capitalize() :Converts the first character to upper case"
   ]
  },
  {
   "cell_type": "code",
   "execution_count": 1,
   "id": "9c6849f6",
   "metadata": {},
   "outputs": [
    {
     "name": "stdout",
     "output_type": "stream",
     "text": [
      "Hi komali\n"
     ]
    }
   ],
   "source": [
    "str15 = \"hi komali\"\n",
    "print(str15.capitalize())"
   ]
  },
  {
   "cell_type": "markdown",
   "id": "c8bb8bd2",
   "metadata": {},
   "source": [
    "title() : Converts the first character of each word to upper case"
   ]
  },
  {
   "cell_type": "code",
   "execution_count": 17,
   "id": "3e7a0f67",
   "metadata": {},
   "outputs": [
    {
     "name": "stdout",
     "output_type": "stream",
     "text": [
      "Hi World\n"
     ]
    }
   ],
   "source": [
    "str26 = 'hi world'\n",
    "print(str26.title())"
   ]
  },
  {
   "cell_type": "markdown",
   "id": "4e49e99c",
   "metadata": {},
   "source": [
    "casefold(): Converts string into lower case"
   ]
  },
  {
   "cell_type": "code",
   "execution_count": 9,
   "id": "13ca2c7f",
   "metadata": {},
   "outputs": [
    {
     "name": "stdout",
     "output_type": "stream",
     "text": [
      "hi komali\n"
     ]
    }
   ],
   "source": [
    "str16 = 'Hi komali'\n",
    "print(str16.casefold())"
   ]
  },
  {
   "cell_type": "markdown",
   "id": "def58d10",
   "metadata": {},
   "source": [
    "center() : Returns a centered string"
   ]
  },
  {
   "cell_type": "code",
   "execution_count": 14,
   "id": "7b57331f",
   "metadata": {},
   "outputs": [
    {
     "name": "stdout",
     "output_type": "stream",
     "text": [
      "*********************************************hi komali**********************************************\n"
     ]
    }
   ],
   "source": [
    "str17 = 'hi komali'\n",
    "print(str17.center(100,\"*\"))"
   ]
  },
  {
   "cell_type": "markdown",
   "id": "86c828b0",
   "metadata": {},
   "source": [
    "count(): Returns the number of times a specified value occurs in a string\n",
    "syntax : string.count(value, start, end) - value is required , others are defalut taken as 0"
   ]
  },
  {
   "cell_type": "code",
   "execution_count": 21,
   "id": "bcdf42cb",
   "metadata": {},
   "outputs": [
    {
     "name": "stdout",
     "output_type": "stream",
     "text": [
      "2\n"
     ]
    }
   ],
   "source": [
    "str18 = 'yesterday it was snowy, due to rain all the snow melted'\n",
    "print(str18.count(\"snow\"))"
   ]
  },
  {
   "cell_type": "markdown",
   "id": "e1250aa8",
   "metadata": {},
   "source": [
    "encode() : Returns an encoded version of the string\n",
    "syntax : string.encode(encoding=encoding, errors=errors)"
   ]
  },
  {
   "cell_type": "code",
   "execution_count": 2,
   "id": "a8753823",
   "metadata": {},
   "outputs": [],
   "source": [
    "#str19 = 'it is '\n",
    "#print(str19.encode())"
   ]
  },
  {
   "cell_type": "markdown",
   "id": "db8d2d9b",
   "metadata": {},
   "source": [
    "endswith() :Returns true if the string ends with the specified value"
   ]
  },
  {
   "cell_type": "code",
   "execution_count": 3,
   "id": "d714a897",
   "metadata": {},
   "outputs": [
    {
     "name": "stdout",
     "output_type": "stream",
     "text": [
      "True\n"
     ]
    }
   ],
   "source": [
    "str20 = \"im fine\"\n",
    "print(str20.endswith(\"fine\"))"
   ]
  },
  {
   "cell_type": "markdown",
   "id": "3233c9c4",
   "metadata": {},
   "source": [
    "startswith() : Returns true if the string starts with the specified value"
   ]
  },
  {
   "cell_type": "code",
   "execution_count": 14,
   "id": "43948ce3",
   "metadata": {},
   "outputs": [
    {
     "name": "stdout",
     "output_type": "stream",
     "text": [
      "True\n"
     ]
    }
   ],
   "source": [
    "str21 = \"im fine\"\n",
    "print(str21.startswith(\"im\"))"
   ]
  },
  {
   "cell_type": "markdown",
   "id": "325c126a",
   "metadata": {},
   "source": [
    "expandtabs() :Sets the tab size of the string"
   ]
  },
  {
   "cell_type": "code",
   "execution_count": null,
   "id": "bb5c3021",
   "metadata": {},
   "outputs": [],
   "source": [
    "#str21 = \"\""
   ]
  },
  {
   "cell_type": "markdown",
   "id": "edf7ec32",
   "metadata": {},
   "source": [
    "format() :Formats specified values in a string"
   ]
  },
  {
   "cell_type": "code",
   "execution_count": 23,
   "id": "d20578c7",
   "metadata": {},
   "outputs": [
    {
     "name": "stdout",
     "output_type": "stream",
     "text": [
      "im fine and im 24\n"
     ]
    }
   ],
   "source": [
    "#str22 = \"im fine and {fname}\"\n",
    "str22 = \"im fine and im {age}\"\n",
    "print(str22.format(age = 24))"
   ]
  },
  {
   "cell_type": "markdown",
   "id": "800e05da",
   "metadata": {},
   "source": [
    "index() :\tSearches the string for a specified value and returns the position of where it was found , if not found raise an error. same as find() , find gives -1 is not found."
   ]
  },
  {
   "cell_type": "code",
   "execution_count": 6,
   "id": "5404d37f",
   "metadata": {},
   "outputs": [
    {
     "name": "stdout",
     "output_type": "stream",
     "text": [
      "6\n"
     ]
    }
   ],
   "source": [
    "str23 = \"hello world\"\n",
    "print(str23.index(\"w\"))"
   ]
  },
  {
   "cell_type": "markdown",
   "id": "d40a3045",
   "metadata": {},
   "source": [
    "isidentifier() : Returns True if the string is an identifier\n",
    "A string is considered a valid identifier if it only contains alphanumeric letters (a-z) and (0-9), or underscores (_). \n",
    "A valid identifier cannot start with a number, or contain any spaces."
   ]
  },
  {
   "cell_type": "code",
   "execution_count": 11,
   "id": "57971d64",
   "metadata": {},
   "outputs": [
    {
     "name": "stdout",
     "output_type": "stream",
     "text": [
      "True\n"
     ]
    }
   ],
   "source": [
    "str24 = \"hello34\"\n",
    "print(str24.isidentifier())"
   ]
  },
  {
   "cell_type": "markdown",
   "id": "43a0c5d2",
   "metadata": {},
   "source": [
    "swapcase() :Swaps cases, lower case becomes upper case and vice versa"
   ]
  },
  {
   "cell_type": "code",
   "execution_count": 15,
   "id": "97975e24",
   "metadata": {},
   "outputs": [
    {
     "name": "stdout",
     "output_type": "stream",
     "text": [
      "Hello World\n"
     ]
    }
   ],
   "source": [
    "str25 = \"hELLO wORLD\"\n",
    "print(str25.swapcase())"
   ]
  },
  {
   "cell_type": "code",
   "execution_count": null,
   "id": "12e5360b",
   "metadata": {},
   "outputs": [],
   "source": [
    "translate(),encode(),expandstab(),partition(),"
   ]
  },
  {
   "cell_type": "markdown",
   "id": "67f35179",
   "metadata": {},
   "source": [
    "slicing : "
   ]
  },
  {
   "cell_type": "code",
   "execution_count": 13,
   "id": "498fed13",
   "metadata": {},
   "outputs": [
    {
     "name": "stdout",
     "output_type": "stream",
     "text": [
      "k\n"
     ]
    }
   ],
   "source": [
    "str1 = \"komali\"\n",
    "print( str1[:1])"
   ]
  },
  {
   "cell_type": "code",
   "execution_count": 24,
   "id": "eadeac92",
   "metadata": {},
   "outputs": [
    {
     "name": "stdout",
     "output_type": "stream",
     "text": [
      "komal\n"
     ]
    }
   ],
   "source": [
    "str1 = \"komali\"\n",
    "print(str1[0:5])"
   ]
  },
  {
   "cell_type": "code",
   "execution_count": 18,
   "id": "c92f0056",
   "metadata": {},
   "outputs": [
    {
     "name": "stdout",
     "output_type": "stream",
     "text": [
      "mali\n"
     ]
    }
   ],
   "source": [
    "str1 = 'komali'\n",
    "print(str1[2:])"
   ]
  },
  {
   "cell_type": "code",
   "execution_count": 21,
   "id": "5b596030",
   "metadata": {},
   "outputs": [
    {
     "name": "stdout",
     "output_type": "stream",
     "text": [
      "ilamok\n"
     ]
    }
   ],
   "source": [
    "str1 = 'komali'\n",
    "print(str1[::-1])"
   ]
  },
  {
   "cell_type": "code",
   "execution_count": 15,
   "id": "02a55c1e",
   "metadata": {},
   "outputs": [
    {
     "name": "stdout",
     "output_type": "stream",
     "text": [
      "o\n"
     ]
    }
   ],
   "source": [
    "str1 = \"komali\"\n",
    "print(str1[1:2:3])"
   ]
  },
  {
   "cell_type": "code",
   "execution_count": null,
   "id": "aae0a2af",
   "metadata": {},
   "outputs": [],
   "source": []
  },
  {
   "cell_type": "code",
   "execution_count": null,
   "id": "5465e9cf",
   "metadata": {},
   "outputs": [],
   "source": []
  }
 ],
 "metadata": {
  "kernelspec": {
   "display_name": "Python 3 (ipykernel)",
   "language": "python",
   "name": "python3"
  },
  "language_info": {
   "codemirror_mode": {
    "name": "ipython",
    "version": 3
   },
   "file_extension": ".py",
   "mimetype": "text/x-python",
   "name": "python",
   "nbconvert_exporter": "python",
   "pygments_lexer": "ipython3",
   "version": "3.9.13"
  }
 },
 "nbformat": 4,
 "nbformat_minor": 5
}
