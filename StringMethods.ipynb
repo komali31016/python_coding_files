{
 "cells": [
  {
   "cell_type": "markdown",
   "id": "eb9bd857",
   "metadata": {},
   "source": [
    "upper() : Converts all characters in a string to uppercase."
   ]
  },
  {
   "cell_type": "code",
   "execution_count": 6,
   "id": "9955abb7",
   "metadata": {},
   "outputs": [
    {
     "name": "stdout",
     "output_type": "stream",
     "text": [
      "Converts all characters in a string to uppercase.\n",
      "converted text is:  HELLO WORLD\n"
     ]
    }
   ],
   "source": [
    "str1 = \"hello world\"\n",
    "print(\"Converts all characters in a string to uppercase.\")\n",
    "print(\"converted text is: \", str1.upper())\n"
   ]
  },
  {
   "cell_type": "raw",
   "id": "87a51ff7",
   "metadata": {},
   "source": [
    "lower() : Converts all characters in a string to lowercase."
   ]
  },
  {
   "cell_type": "code",
   "execution_count": 7,
   "id": "3152ad4b",
   "metadata": {},
   "outputs": [
    {
     "name": "stdout",
     "output_type": "stream",
     "text": [
      "Converts all characters in a string to lowercase.\n",
      "i am fine\n"
     ]
    }
   ],
   "source": [
    "print(\"Converts all characters in a string to lowercase.\")\n",
    "str2 = \"I AM FINE\"\n",
    "print(str2.lower())"
   ]
  },
  {
   "cell_type": "raw",
   "id": "58c36ba9",
   "metadata": {},
   "source": [
    "strip() : Remove spaces at the beginning and at the end of the string or Remove Whitespaces"
   ]
  },
  {
   "cell_type": "code",
   "execution_count": 25,
   "id": "08a77ab4",
   "metadata": {},
   "outputs": [
    {
     "name": "stdout",
     "output_type": "stream",
     "text": [
      "strip method allows us to Remove spaces at the beginning and at the end of the string or Remove Whitespaces\n",
      "apple pie\n"
     ]
    }
   ],
   "source": [
    "print(\"strip method allows us to Remove spaces at the beginning and at the end of the string or Remove Whitespaces\")\n",
    "str3 = \"......apple pie,,,,,,\"\n",
    "print(str3.strip(\".,\"))\n"
   ]
  },
  {
   "cell_type": "code",
   "execution_count": 26,
   "id": "bbc85eac",
   "metadata": {},
   "outputs": [
    {
     "name": "stdout",
     "output_type": "stream",
     "text": [
      "berries are cheap in walmart and cranberries are expensive in walmart\n"
     ]
    }
   ],
   "source": [
    "b = \"berries\"\n",
    "c = \"cranberries\"\n",
    "str4 = b.strip()\n",
    "print(b, \"are cheap in walmart\" , \"and\", c, \"are expensive in walmart\")"
   ]
  },
  {
   "cell_type": "markdown",
   "id": "f554e2e0",
   "metadata": {},
   "source": [
    " split() : Splits a string into a list of substrings "
   ]
  },
  {
   "cell_type": "code",
   "execution_count": 37,
   "id": "ab2b15be",
   "metadata": {},
   "outputs": [
    {
     "name": "stdout",
     "output_type": "stream",
     "text": [
      "Splits a string into a list of substrings\n",
      "['all', ' my friends', ' are toxic', ' oh!']\n",
      "['all', 'my', 'friends', 'are', 'toxic,', 'oh!']\n"
     ]
    }
   ],
   "source": [
    "str5 = \"all my friends are toxic, oh!\"\n",
    "str6 = \"all, my friends, are toxic, oh!\"\n",
    "text = str6.split(\",\")\n",
    "print(\"Splits a string into a list of substrings\")\n",
    "print(text)                  \n",
    "print(str5.split())\n"
   ]
  },
  {
   "cell_type": "raw",
   "id": "4639ac33",
   "metadata": {},
   "source": [
    "replace(): Replaces occurrences of a substring with another substring"
   ]
  },
  {
   "cell_type": "code",
   "execution_count": 39,
   "id": "811f90cd",
   "metadata": {},
   "outputs": [
    {
     "name": "stdout",
     "output_type": "stream",
     "text": [
      "Replaces occurrences of a substring with another substring \n",
      "you are my monica to my rachel\n"
     ]
    }
   ],
   "source": [
    "str7 = \"you are my monica to my chandler\"\n",
    "print(\"Replaces occurrences of a substring with another substring \")\n",
    "print(str7.replace(\"chandler\",\"rachel\"))"
   ]
  },
  {
   "cell_type": "raw",
   "id": "46fe41aa",
   "metadata": {},
   "source": [
    "find() : Returns the index of the first occurrence of a substring. Returns -1 if not found."
   ]
  },
  {
   "cell_type": "code",
   "execution_count": 49,
   "id": "82841b7b",
   "metadata": {},
   "outputs": [
    {
     "name": "stdout",
     "output_type": "stream",
     "text": [
      "4\n"
     ]
    }
   ],
   "source": [
    "txt = \"hello world\"\n",
    "str8 = txt.find(\"o\")\n",
    "print(str8)"
   ]
  }
 ],
 "metadata": {
  "kernelspec": {
   "display_name": "Python 3 (ipykernel)",
   "language": "python",
   "name": "python3"
  },
  "language_info": {
   "codemirror_mode": {
    "name": "ipython",
    "version": 3
   },
   "file_extension": ".py",
   "mimetype": "text/x-python",
   "name": "python",
   "nbconvert_exporter": "python",
   "pygments_lexer": "ipython3",
   "version": "3.9.13"
  }
 },
 "nbformat": 4,
 "nbformat_minor": 5
}
