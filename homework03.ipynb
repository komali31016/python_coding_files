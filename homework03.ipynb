{
 "cells": [
  {
   "cell_type": "markdown",
   "id": "9a8c40f9",
   "metadata": {},
   "source": [
    "# Problems on list , tuple, dictionaries, sets, functions ::\n"
   ]
  },
  {
   "cell_type": "markdown",
   "id": "ab06339a",
   "metadata": {},
   "source": [
    "1) Create a function that takes a list of strings and returns a new list with the lengths of the strings."
   ]
  },
  {
   "cell_type": "code",
   "execution_count": 19,
   "id": "94d3570d",
   "metadata": {},
   "outputs": [
    {
     "name": "stdout",
     "output_type": "stream",
     "text": [
      "length of a strings in a list: [2, 2, 5, 7]\n"
     ]
    }
   ],
   "source": [
    "def lengths_string(strings):\n",
    "    lengths = [] # empty list\n",
    "    for string in strings:\n",
    "        lengths.append(len(string))\n",
    "    print(\"length of a strings in a list:\",lengths)\n",
    "    \n",
    "input_string = ['it','is','rainy','outside']\n",
    "lengths_string(input_string)\n"
   ]
  },
  {
   "cell_type": "markdown",
   "id": "2022ee2a",
   "metadata": {},
   "source": [
    "2) Create a function to check if two lists have at least one common element."
   ]
  },
  {
   "cell_type": "code",
   "execution_count": 8,
   "id": "b20661a5",
   "metadata": {},
   "outputs": [
    {
     "name": "stdout",
     "output_type": "stream",
     "text": [
      "common element found:  True\n"
     ]
    }
   ],
   "source": [
    "def check_common(list1,list2):\n",
    "    one_common = False\n",
    "    for element in list1:\n",
    "        if element in list2:\n",
    "            one_common = True\n",
    "            break\n",
    "    print(\"common element found: \",one_common)\n",
    "\n",
    "list1 = [1,3,4,5,6]\n",
    "list2 = [7,5,6,3,9]\n",
    "check_common(list1,list2)\n",
    "    "
   ]
  },
  {
   "cell_type": "markdown",
   "id": "17af80ce",
   "metadata": {},
   "source": [
    "3) Write a Python function to remove duplicates from a list."
   ]
  },
  {
   "cell_type": "code",
   "execution_count": 18,
   "id": "5d03be28",
   "metadata": {},
   "outputs": [
    {
     "name": "stdout",
     "output_type": "stream",
     "text": [
      "list after removing duplicates: [1, 3, 4, 5, 6, 7]\n"
     ]
    }
   ],
   "source": [
    "def remove_duplicates(list1):\n",
    "    new_list1 = list(set(list1)) # used set(a) to remove duplicates\n",
    "    print(\"list after removing duplicates:\",new_list1)\n",
    "\n",
    "duplicates = [1,3,4,5,6,6,5,7]\n",
    "remove_duplicates(duplicates)  \n"
   ]
  },
  {
   "cell_type": "markdown",
   "id": "4e8113bb",
   "metadata": {},
   "source": [
    "4) Implement a function to find the intersection of two sets."
   ]
  },
  {
   "cell_type": "code",
   "execution_count": 15,
   "id": "01220512",
   "metadata": {},
   "outputs": [
    {
     "name": "stdout",
     "output_type": "stream",
     "text": [
      "intersection of two sets is: {6}\n"
     ]
    }
   ],
   "source": [
    "# returned set contains only items that exist in both sets\n",
    "# set.intersection(set1,set2,...)\n",
    "def intersection_set(set1,set2):\n",
    "    result = set1.intersection(set2)\n",
    "    print(\"intersection of two sets is:\",result)\n",
    "    \n",
    "x = {1,4,6}\n",
    "y = {6,7,8}\n",
    "intersection_set(x,y)\n"
   ]
  },
  {
   "cell_type": "markdown",
   "id": "11fb2619",
   "metadata": {},
   "source": [
    "5) Write a program that takes a list of tuples and sorts them based on the second element of each tuple."
   ]
  },
  {
   "cell_type": "code",
   "execution_count": 28,
   "id": "d8081130",
   "metadata": {},
   "outputs": [
    {
     "name": "stdout",
     "output_type": "stream",
     "text": [
      "original tuple: [('age', 'apple'), ('yummy', 'mango'), ('wow', 'berry')]\n",
      "sorted tuple by second element is: [('age', 'apple'), ('wow', 'berry'), ('yummy', 'mango')]\n"
     ]
    }
   ],
   "source": [
    "tuple1 = [('age','apple'),('yummy','mango'),('wow','berry')]\n",
    "print(\"original tuple:\",tuple1)\n",
    "tuple1.sort()  #key = lambda item:item[1])  # for loop, list compher \n",
    "print(\"sorted tuple by second element is:\",tuple1)\n"
   ]
  },
  {
   "cell_type": "markdown",
   "id": "7ffbedd9",
   "metadata": {},
   "source": [
    "6) Create a function that returns the union of two sets."
   ]
  },
  {
   "cell_type": "code",
   "execution_count": 20,
   "id": "0eb45e86",
   "metadata": {},
   "outputs": [
    {
     "name": "stdout",
     "output_type": "stream",
     "text": [
      "union of two sets: {1, 4, 6, 7, 8}\n"
     ]
    }
   ],
   "source": [
    "# returns all values present in both sets\n",
    "# set.union(set1,set2...)\n",
    "def union_set(set1,set2):\n",
    "    result = set1.union(set2)\n",
    "    print(\"union of two sets:\",result)\n",
    "    \n",
    "x = {1,4,6}\n",
    "y = {6,7,8}\n",
    "union_set(x,y)\n"
   ]
  },
  {
   "cell_type": "markdown",
   "id": "9e51327c",
   "metadata": {},
   "source": [
    "7) Write a Python program to reverse a tuple."
   ]
  },
  {
   "cell_type": "code",
   "execution_count": 2,
   "id": "53857e63",
   "metadata": {},
   "outputs": [
    {
     "name": "stdout",
     "output_type": "stream",
     "text": [
      "(4, 3, 2, 1)\n"
     ]
    }
   ],
   "source": [
    "my_tuple = (1,2,3,4)\n",
    "print(my_tuple[::-1])\n"
   ]
  },
  {
   "cell_type": "markdown",
   "id": "d95d74cc",
   "metadata": {},
   "source": [
    "8) Implement a function to find the difference between two sets.\n",
    "\n",
    " "
   ]
  },
  {
   "cell_type": "code",
   "execution_count": 1,
   "id": "8f97f900",
   "metadata": {},
   "outputs": [
    {
     "name": "stdout",
     "output_type": "stream",
     "text": [
      "difference between two sets: {8, 7}\n"
     ]
    }
   ],
   "source": [
    "# returned set contains items that exist only in the first set,not in both sets.\n",
    "# set.difference(set)\n",
    "def difference_set(set1,set2):\n",
    "    result = set2.difference(set1)\n",
    "    print(\"difference between two sets:\",result)\n",
    "    \n",
    "x = {1,4,6}\n",
    "y = {6,7,8}\n",
    "difference_set(x,y)\n"
   ]
  },
  {
   "cell_type": "markdown",
   "id": "53e90e93",
   "metadata": {},
   "source": [
    "9) Create a function that takes a list of tuples and returns a dictionary where the first element of each tuple is the key and the second element is the value."
   ]
  },
  {
   "cell_type": "code",
   "execution_count": 42,
   "id": "12172c0d",
   "metadata": {},
   "outputs": [
    {
     "name": "stdout",
     "output_type": "stream",
     "text": [
      "{1: 'abc', 2: 'xyz'}\n"
     ]
    }
   ],
   "source": [
    "def tuple_dict(elements):\n",
    "    dictionary = {}\n",
    "    for key, value in elements:\n",
    "        dictionary[key] = value\n",
    "    print(dictionary)\n",
    "    \n",
    "elements = [(1,'abc'),(2,'xyz')]\n",
    "tuple_dict(elements)\n"
   ]
  },
  {
   "cell_type": "markdown",
   "id": "1a5b1c4b",
   "metadata": {},
   "source": [
    "10) Write a Python function to flatten a nested list."
   ]
  },
  {
   "cell_type": "code",
   "execution_count": 69,
   "id": "a01d5cd5",
   "metadata": {},
   "outputs": [],
   "source": [
    "###\n",
    "# IN : list1 = [1,2,3,[3,4,5],6,7,[6],8,6]\n",
    "# OP : [1,2,3,4,5,6,7,6,8,6]"
   ]
  },
  {
   "cell_type": "markdown",
   "id": "d6b62744",
   "metadata": {},
   "source": [
    "11) Implement a program that takes two dictionaries and merges them into one, with the values of common keys summed."
   ]
  },
  {
   "cell_type": "code",
   "execution_count": 82,
   "id": "e43ea28d",
   "metadata": {},
   "outputs": [
    {
     "name": "stdout",
     "output_type": "stream",
     "text": [
      "merged dict and common values summed is:\n",
      "'apple':6 times\n",
      "'banana':2 times\n",
      "'orange':3 times\n",
      "'mango':4 times\n",
      "'berry':3 times\n"
     ]
    }
   ],
   "source": [
    "dict1 = {'apple':1,'banana':2,'orange':3}\n",
    "dict2 = {'mango':4,'apple':5,'berry':3}\n",
    "for item in dict2.keys():\n",
    "    if item in dict1.keys():\n",
    "        dict1[item] += dict2[item]\n",
    "    else:\n",
    "        dict1[item] = dict2[item]\n",
    "print(\"merged dict and common values summed is:\")\n",
    "for key,value in dict1.items():\n",
    "    print(f\"'{key}':{value} times\")\n"
   ]
  },
  {
   "cell_type": "markdown",
   "id": "3abdb5fc",
   "metadata": {},
   "source": [
    "12) Create a function to find the average of a list of numbers."
   ]
  },
  {
   "cell_type": "code",
   "execution_count": 43,
   "id": "41726e07",
   "metadata": {},
   "outputs": [
    {
     "name": "stdout",
     "output_type": "stream",
     "text": [
      "Average: 3.0\n"
     ]
    }
   ],
   "source": [
    "def avg_list(numbers):\n",
    "    total = sum(numbers)\n",
    "    average = total / len(numbers)\n",
    "    print(\"Average:\", average)\n",
    "    \n",
    "list1 = [1,2,3,4,5]\n",
    "avg_list(list1)\n",
    "    "
   ]
  },
  {
   "cell_type": "markdown",
   "id": "04cbb9d9",
   "metadata": {},
   "source": [
    "13) Write a Python program to check if a given key already exists in a dictionary."
   ]
  },
  {
   "cell_type": "code",
   "execution_count": 49,
   "id": "c80117ff",
   "metadata": {},
   "outputs": [
    {
     "name": "stdout",
     "output_type": "stream",
     "text": [
      "not present in dict\n"
     ]
    }
   ],
   "source": [
    "dict1 = {'a': 2021,'b': 2022}\n",
    "if 'g' in dict1:\n",
    "    print(\"already present in given dict\")\n",
    "else:\n",
    "    print(\"not present in dict\")\n"
   ]
  },
  {
   "cell_type": "markdown",
   "id": "98a312ba",
   "metadata": {},
   "source": [
    "14) Implement a function to generate Fibonacci sequence up to a specified number of terms."
   ]
  },
  {
   "cell_type": "code",
   "execution_count": null,
   "id": "0a5b8314",
   "metadata": {},
   "outputs": [],
   "source": [
    "### didnot understood how to implement the logic\n",
    "# logic = [0,1,0+1=1,1+1=2,2+1=3,3+2=5] "
   ]
  },
  {
   "cell_type": "markdown",
   "id": "453e28a5",
   "metadata": {},
   "source": [
    "15) Write a program to find the mode (most frequent element) in a list.\n",
    "\n",
    " "
   ]
  },
  {
   "cell_type": "code",
   "execution_count": 72,
   "id": "685b52db",
   "metadata": {},
   "outputs": [
    {
     "name": "stdout",
     "output_type": "stream",
     "text": [
      "1\n"
     ]
    }
   ],
   "source": [
    "list1 = [1,1,1,1,3,4,5,6,7,6,7,8,5,2,3,1,5]\n",
    "frequent_element = max(set(list1), #key = list1.count)    #loop\n",
    "print(frequent_element)\n"
   ]
  },
  {
   "cell_type": "markdown",
   "id": "23efb07d",
   "metadata": {},
   "source": [
    "16) Write a Python program to check if two given sets have no elements in common.\n",
    "\n"
   ]
  },
  {
   "cell_type": "code",
   "execution_count": 33,
   "id": "e55677ed",
   "metadata": {},
   "outputs": [
    {
     "name": "stdout",
     "output_type": "stream",
     "text": [
      "True\n"
     ]
    }
   ],
   "source": [
    "# use isdisjoint() method \n",
    "# returns ture if none of the items are present in both sets, other wise false.\n",
    "# set.isdisjoint(set)\n",
    "set1 = {1,3,4,5}\n",
    "set2 = {7,8,9,2}\n",
    "result = set1.isdisjoint(set2)\n",
    "print(result)\n"
   ]
  },
  {
   "cell_type": "markdown",
   "id": "1666e6da",
   "metadata": {},
   "source": [
    "17) Write a Python function to find the median of a list of numbers."
   ]
  },
  {
   "cell_type": "code",
   "execution_count": 85,
   "id": "b8c7f8bd",
   "metadata": {},
   "outputs": [
    {
     "name": "stdout",
     "output_type": "stream",
     "text": [
      "4.5\n"
     ]
    }
   ],
   "source": [
    "def find_median(numbers):\n",
    "    numbers.sort()\n",
    "    length = len(numbers)\n",
    "    middle = length // 2\n",
    "    if length % 2 == 0:\n",
    "        median = (numbers[middle-1] +numbers[middle]) / 2\n",
    "    else:\n",
    "        median = numbers[middle]\n",
    "    return median\n",
    "numbers = [1,2,3,4,5,6,7,8]\n",
    "median = find_median(numbers)\n",
    "print(median)"
   ]
  },
  {
   "cell_type": "markdown",
   "id": "09c8c8e0",
   "metadata": {},
   "source": [
    "18) Implement a program that takes a dictionary and returns a list of keys sorted by their corresponding values."
   ]
  },
  {
   "cell_type": "code",
   "execution_count": null,
   "id": "d486c037",
   "metadata": {},
   "outputs": [],
   "source": [
    "###"
   ]
  },
  {
   "cell_type": "markdown",
   "id": "438946a4",
   "metadata": {},
   "source": [
    "19) Create a function to rotate a list by a specified number of positions to the right."
   ]
  },
  {
   "cell_type": "code",
   "execution_count": null,
   "id": "7214ad23",
   "metadata": {},
   "outputs": [],
   "source": [
    "###"
   ]
  },
  {
   "cell_type": "markdown",
   "id": "117b2e57",
   "metadata": {},
   "source": [
    "20) Write a Python program to find the index of the first occurrence of a given element in a list."
   ]
  },
  {
   "cell_type": "code",
   "execution_count": 18,
   "id": "d2e50521",
   "metadata": {},
   "outputs": [
    {
     "name": "stdout",
     "output_type": "stream",
     "text": [
      "first occurrence of a given element: 1\n"
     ]
    }
   ],
   "source": [
    "list1 = [1,2,3,1,4,5,4,6,7,4,3,3,2]\n",
    "element_to_find = 2\n",
    "index = -1\n",
    "for i in range(len(list1)):\n",
    "    if list1[i] == element_to_find:\n",
    "        index = i\n",
    "        break\n",
    "\n",
    "if index != -1:\n",
    "    print(\"first occurrence of a given element:\",index)\n",
    "else:\n",
    "    print(\"given element not found in list\")\n"
   ]
  },
  {
   "cell_type": "markdown",
   "id": "674ee6fd",
   "metadata": {},
   "source": [
    "21) Implement a function that takes a list of integers and returns a list of the squares of those integers."
   ]
  },
  {
   "cell_type": "code",
   "execution_count": 23,
   "id": "989dbe5b",
   "metadata": {},
   "outputs": [
    {
     "name": "stdout",
     "output_type": "stream",
     "text": [
      "squared list is: [1, 4, 9, 16, 25]\n"
     ]
    }
   ],
   "source": [
    "def squares(numbers):\n",
    "    return [x ** 2 for x in numbers] #  used list comprehension\n",
    "\n",
    "list1 = [1,2,3,4,5]\n",
    "squares = squares(list1)\n",
    "print(\"squared list is:\",squares)\n"
   ]
  },
  {
   "cell_type": "markdown",
   "id": "e6914d30",
   "metadata": {},
   "source": [
    "22) Write a program to check if a given tuple is a subset of another tuple."
   ]
  },
  {
   "cell_type": "code",
   "execution_count": 22,
   "id": "0014080a",
   "metadata": {},
   "outputs": [
    {
     "name": "stdout",
     "output_type": "stream",
     "text": [
      "True\n"
     ]
    }
   ],
   "source": [
    "tuple1 = (1,2,3,4,4,2)\n",
    "tuple2 = (9,6,7,4,3,2,1,8,4,6)\n",
    "result = set(tuple1).issubset(set(tuple2)) # returns true if all items in the set1 exist in the spec\n",
    "print(result)\n"
   ]
  },
  {
   "cell_type": "markdown",
   "id": "1828e4c1",
   "metadata": {},
   "source": [
    "23) Create a function that takes a dictionary and returns a new dictionary with keys and values swapped."
   ]
  },
  {
   "cell_type": "code",
   "execution_count": null,
   "id": "0d795109",
   "metadata": {},
   "outputs": [],
   "source": [
    "###"
   ]
  },
  {
   "cell_type": "markdown",
   "id": "cc480461",
   "metadata": {},
   "source": [
    "24) Write a Python function to remove the nth index element from a list."
   ]
  },
  {
   "cell_type": "code",
   "execution_count": 4,
   "id": "f1d3b5b1",
   "metadata": {},
   "outputs": [
    {
     "name": "stdout",
     "output_type": "stream",
     "text": [
      "[1, 2, 3, 4, 6, 7]\n"
     ]
    }
   ],
   "source": [
    "list1 = [1,2,3,4,5,6,7]\n",
    "remove_index = 4\n",
    "del list1[remove_index]\n",
    "# if remove_index < 0 or remove_index >= len(list1):\n",
    "#     print(\"out of range\")\n",
    "# else:\n",
    "#     del list1[remove_index]\n",
    "print(list1)\n"
   ]
  },
  {
   "cell_type": "markdown",
   "id": "d3f169f7",
   "metadata": {},
   "source": [
    "25) Implement a program that takes a list of strings and returns a new list with only the unique strings, ignoring case sensitivity."
   ]
  },
  {
   "cell_type": "code",
   "execution_count": 8,
   "id": "51c7acc5",
   "metadata": {},
   "outputs": [
    {
     "name": "stdout",
     "output_type": "stream",
     "text": [
      "Unique strings ignoring case sensitivity: ['amma', 'nanna', 'komali']\n"
     ]
    }
   ],
   "source": [
    "str1 = [\"Komali\", \"KOMALI\", \"AMMA\", \"AmMa\", \"Nanna\", \"nanna\"]\n",
    "lowercase_strings = []\n",
    "for word in str1:\n",
    "    lowercase_strings.append(word.lower())\n",
    "# lowecase_strings = [word.lower() for word in str1]\n",
    "    # converting all strings to lower case\n",
    "# print(lowercase_strings)\n",
    "unique_strings = set(lowercase_strings)  #  to remove duplicates from the list used set \n",
    "# print(unique_strings)\n",
    "unique_strings_ = [] # again storing them in list\n",
    "for word in unique_strings:\n",
    "    unique_strings_.append(word)\n",
    "\n",
    "print(\"Unique strings ignoring case sensitivity:\", unique_strings_)\n"
   ]
  },
  {
   "cell_type": "markdown",
   "id": "402169ef",
   "metadata": {},
   "source": [
    "26) Write a program to remove all occurrences of a specified element from a list."
   ]
  },
  {
   "cell_type": "code",
   "execution_count": 56,
   "id": "45a92c38",
   "metadata": {},
   "outputs": [
    {
     "name": "stdout",
     "output_type": "stream",
     "text": [
      "[2, 3, 4, 5, 6, 7, 2, 4, 2, 5, 6, 3, 2]\n"
     ]
    }
   ],
   "source": [
    "list1 = [1,1,1,2,3,4,5,6,7,2,4,2,5,6,3,2,1]\n",
    "element_to_remove = 1\n",
    "while element_to_remove in list1:\n",
    "    list1.remove(element_to_remove)\n",
    "print(list1)\n"
   ]
  },
  {
   "cell_type": "markdown",
   "id": "43a4d109",
   "metadata": {},
   "source": [
    "27) Create a function that takes a list of numbers and returns a new list with only the prime numbers."
   ]
  },
  {
   "cell_type": "code",
   "execution_count": 43,
   "id": "ebb5cb1a",
   "metadata": {},
   "outputs": [],
   "source": [
    "### did not understood the logic ###"
   ]
  },
  {
   "cell_type": "markdown",
   "id": "5e0bbccd",
   "metadata": {},
   "source": [
    "28) Implement a program that takes a list of tuples and returns the product of the elements of each tuple."
   ]
  },
  {
   "cell_type": "code",
   "execution_count": 75,
   "id": "b7a0f4fd",
   "metadata": {},
   "outputs": [
    {
     "name": "stdout",
     "output_type": "stream",
     "text": [
      "[2, 18, 10]\n"
     ]
    }
   ],
   "source": [
    "#In : [(1,2),(6,3),(5,2)]\n",
    "#Op : [2,18,10]\n",
    "tuple1 = [(1,2),(6,3),(5,2)]\n",
    "new_tuple =[] # created empty list\n",
    "for tup in tuple1:\n",
    "    product = 1\n",
    "    for num in tup:\n",
    "        product = product * num\n",
    "    new_tuple.append(product)\n",
    "    \n",
    "print(new_tuple)"
   ]
  },
  {
   "cell_type": "markdown",
   "id": "a4e93cbc",
   "metadata": {},
   "source": [
    "29) Write a Python function to check if a given list is sorted in ascending order."
   ]
  },
  {
   "cell_type": "code",
   "execution_count": 38,
   "id": "5d6470cf",
   "metadata": {},
   "outputs": [
    {
     "name": "stdout",
     "output_type": "stream",
     "text": [
      "true\n"
     ]
    }
   ],
   "source": [
    "def check_ascending(elements):\n",
    "    sorted_ascending = True\n",
    "    for i in range(len(elements)-1):\n",
    "        if elements[i] > elements[i+1]: # comparing each element with next one\n",
    "            sorted_ascending = False\n",
    "            break\n",
    "    if sorted_ascending:\n",
    "        print(\"true\")\n",
    "    else:\n",
    "        print(\"false\")\n",
    "        \n",
    "list1 = [1,2,3,4,5,6]\n",
    "check_ascending(list1)\n",
    "    "
   ]
  },
  {
   "cell_type": "markdown",
   "id": "00a0bba7",
   "metadata": {},
   "source": [
    "30) Create a program that takes a list of integers and returns a new list with the elements in reverse order."
   ]
  },
  {
   "cell_type": "code",
   "execution_count": 30,
   "id": "31325057",
   "metadata": {},
   "outputs": [
    {
     "name": "stdout",
     "output_type": "stream",
     "text": [
      "original list [1, 2, 3, 4, 5, 6, 7, 8, 9, 10]\n",
      "elements in reverse order in new list: [10, 9, 8, 7, 6, 5, 4, 3, 2, 1]\n"
     ]
    }
   ],
   "source": [
    "list1 = [1,2,3,4,5,6,7,8,9,10]\n",
    "list2 = [] # created empty list\n",
    "list2 = list1[::-1]\n",
    "print(\"original list\",list1)\n",
    "print(\"elements in reverse order in new list:\",list2)\n"
   ]
  },
  {
   "cell_type": "markdown",
   "id": "9c60b5b0",
   "metadata": {},
   "source": [
    "31) Implement a function to find the longest word in a list of strings.\n",
    "\n"
   ]
  },
  {
   "cell_type": "code",
   "execution_count": 23,
   "id": "f5ff7ef6",
   "metadata": {},
   "outputs": [
    {
     "name": "stdout",
     "output_type": "stream",
     "text": [
      "longest word in a list is: wearehappy\n"
     ]
    }
   ],
   "source": [
    "def longest_word(words):\n",
    "    str0 = ' '\n",
    "    for word in words:\n",
    "        if len(word) > len(str0):\n",
    "            str0 = word\n",
    "    print(\"longest word in a list is:\", str0)       \n",
    "str1 = ['apple', 'mango','wearehappy']\n",
    "longest_word(str1)\n",
    "\n"
   ]
  },
  {
   "cell_type": "markdown",
   "id": "25b81f5d",
   "metadata": {},
   "source": [
    "32) Write a Python program to find the symmetric difference between two sets."
   ]
  },
  {
   "cell_type": "code",
   "execution_count": 40,
   "id": "2bc6f294",
   "metadata": {},
   "outputs": [
    {
     "name": "stdout",
     "output_type": "stream",
     "text": [
      "{2, 4, 6, 8}\n"
     ]
    }
   ],
   "source": [
    "# use symmetric_difference() method\n",
    "# returned set contains a mix of items that are not present in both sets\n",
    "# set.symmetric_difference(set)\n",
    "\n",
    "set1 = {1,6,8,9,7,5,3}\n",
    "set2 = {3,7,9,5,4,2,1}\n",
    "result = set1.symmetric_difference(set2)\n",
    "print(result)\n"
   ]
  },
  {
   "cell_type": "markdown",
   "id": "527ef229",
   "metadata": {},
   "source": [
    "33) Create a function that takes a list of tuples and returns a list of tuples where each tuple contains the product of the corresponding elements."
   ]
  },
  {
   "cell_type": "code",
   "execution_count": 76,
   "id": "c9126869",
   "metadata": {},
   "outputs": [
    {
     "name": "stdout",
     "output_type": "stream",
     "text": [
      "[2, 18, 10]\n"
     ]
    }
   ],
   "source": [
    "def tuple_product(tuple1):\n",
    "    new_tuple = []\n",
    "    for tup in tuple1:\n",
    "        product = 1\n",
    "        for num in tup:\n",
    "            product = product * num\n",
    "        new_tuple.append(product)\n",
    "    return new_tuple\n",
    "\n",
    "my_tuple1 = [(1,2),(6,3),(5,2)]\n",
    "result = tuple_product(my_tuple1)\n",
    "print(result)\n",
    "    \n",
    "    "
   ]
  },
  {
   "cell_type": "markdown",
   "id": "c30c5f4a",
   "metadata": {},
   "source": [
    "34) Write a program to find the second largest element in a list."
   ]
  },
  {
   "cell_type": "code",
   "execution_count": 16,
   "id": "623375e3",
   "metadata": {},
   "outputs": [
    {
     "name": "stdout",
     "output_type": "stream",
     "text": [
      "second largest element in a list is: 99\n"
     ]
    }
   ],
   "source": [
    "# remove the duplicates from list\n",
    "#sort the new list\n",
    "list1 = [40,56,78,90,34,58,53,62,99,100]\n",
    "list2 = list(set(list1))\n",
    "list2.sort() # list now will be in ascending order\n",
    "# list3 = list2[-2]\n",
    "print(\"second largest element in a list is:\",list2[-2])\n"
   ]
  },
  {
   "cell_type": "markdown",
   "id": "a86b9032",
   "metadata": {},
   "source": [
    "35) Implement a function to remove all duplicates from a list while preserving the order of elements."
   ]
  },
  {
   "cell_type": "code",
   "execution_count": 3,
   "id": "01e09bb3",
   "metadata": {},
   "outputs": [
    {
     "name": "stdout",
     "output_type": "stream",
     "text": [
      "list after removing duplicates: [1, 2, 3, 4, 5, 6, 7, 8, 9]\n"
     ]
    }
   ],
   "source": [
    "def remove_duplicates(list1):\n",
    "    new_list1 = list(set(list1)) # used set(a) to remove duplicates\n",
    "    print(\"list after removing duplicates:\",new_list1)\n",
    "\n",
    "duplicates = [1,2,3,4,2,3,5,6,9,7,5,8]\n",
    "remove_duplicates(duplicates) \n"
   ]
  },
  {
   "cell_type": "markdown",
   "id": "54f28646",
   "metadata": {},
   "source": [
    "36)Write a Python program to check if a given set is a subset of another set.\n",
    "\n"
   ]
  },
  {
   "cell_type": "code",
   "execution_count": 36,
   "id": "e477908c",
   "metadata": {},
   "outputs": [
    {
     "name": "stdout",
     "output_type": "stream",
     "text": [
      "True\n"
     ]
    }
   ],
   "source": [
    "# use issubset()\n",
    "# returns true if all items in the set1 exist in the specified set, otherwise returns false\n",
    "# set.issubset(set)\n",
    "\n",
    "set1 = {'abc','xyz','wer'}\n",
    "set2 = {1,3,'abc',5,'xyz',9,0,'wer'}\n",
    "result = set1.issubset(set2)\n",
    "print(result)\n"
   ]
  }
 ],
 "metadata": {
  "kernelspec": {
   "display_name": "Python 3 (ipykernel)",
   "language": "python",
   "name": "python3"
  },
  "language_info": {
   "codemirror_mode": {
    "name": "ipython",
    "version": 3
   },
   "file_extension": ".py",
   "mimetype": "text/x-python",
   "name": "python",
   "nbconvert_exporter": "python",
   "pygments_lexer": "ipython3",
   "version": "3.9.13"
  }
 },
 "nbformat": 4,
 "nbformat_minor": 5
}
