{
 "cells": [
  {
   "cell_type": "markdown",
   "id": "fa6fa0b4",
   "metadata": {},
   "source": [
    "Take student marks as input \n",
    "print distinction if marks greater than 75\n",
    "print good if marks greater than 60\n",
    "print average if marks greater than 50\n",
    "print poor if marks greater than 40 \n",
    "print fail if marks less than 40"
   ]
  },
  {
   "cell_type": "code",
   "execution_count": null,
   "id": "f1b86ffb",
   "metadata": {},
   "outputs": [],
   "source": [
    "student_marks = int(input(\"enter student marks: \"))\n",
    "if student_marks > 75:\n",
    "    print(\"distinction\")\n",
    "if student_marks >60:\n",
    "    print(\"good\")\n",
    "else student_marks >50:\n",
    "    print(\"average\")\n",
    "elif student_marks > 40:\n",
    "    print(\"poor\")\n",
    "#elif student_marks < 40:\n",
    "#   print (\"fail\")\n",
    "else :\n",
    "    print(\"fail\")"
   ]
  }
 ],
 "metadata": {
  "kernelspec": {
   "display_name": "Python 3 (ipykernel)",
   "language": "python",
   "name": "python3"
  },
  "language_info": {
   "codemirror_mode": {
    "name": "ipython",
    "version": 3
   },
   "file_extension": ".py",
   "mimetype": "text/x-python",
   "name": "python",
   "nbconvert_exporter": "python",
   "pygments_lexer": "ipython3",
   "version": "3.9.13"
  }
 },
 "nbformat": 4,
 "nbformat_minor": 5
}
