{
 "cells": [
  {
   "cell_type": "markdown",
   "id": "efdef8fe",
   "metadata": {},
   "source": [
    "# 1] Word Reversal:\n",
    "Write a program that takes a sentence as input and outputs the reversed form of each word in the sentence."
   ]
  },
  {
   "cell_type": "code",
   "execution_count": 2,
   "id": "6b14c559",
   "metadata": {},
   "outputs": [
    {
     "name": "stdout",
     "output_type": "stream",
     "text": [
      "enter a sentencewe are going out\n",
      "ew era gniog tuo "
     ]
    }
   ],
   "source": [
    "# 1) give input as string -> we are going out\n",
    "# 2) split the sentence -> 'we','are','going','out'\n",
    "# 3) reverse the words -> 'ew','erw','gniog','tuo'\n",
    "# 4) join the words -> ew erw gniog tuo\n",
    "sentence = input(\"enter a sentence\")\n",
    "for word in sentence.split():\n",
    "    print(word[::-1], end = \" \")"
   ]
  },
  {
   "cell_type": "markdown",
   "id": "d9f190b0",
   "metadata": {},
   "source": [
    "# 2] Even Numbers in a List:\n",
    "Given a list of numbers, create a new list that contains only the even numbers from the original list."
   ]
  },
  {
   "cell_type": "code",
   "execution_count": 24,
   "id": "7acf2633",
   "metadata": {},
   "outputs": [
    {
     "name": "stdout",
     "output_type": "stream",
     "text": [
      "[2, 4, 6, 8, 10]\n"
     ]
    }
   ],
   "source": [
    "numbers = [ 1,2,3,4,5,6,7,8,9,10]\n",
    "even_numbers = []  # create a empty list\n",
    "for num in numbers:\n",
    "    if num % 2 == 0:\n",
    "        even_numbers.append(num) # if num is even, then it will append to the created above list\n",
    "print(even_numbers)\n"
   ]
  },
  {
   "cell_type": "markdown",
   "id": "a74f7c14",
   "metadata": {},
   "source": [
    "# 3] Palindrome Check:\n",
    "Create a program that checks if a given word is a palindrome (reads the same backward as forward)."
   ]
  },
  {
   "cell_type": "code",
   "execution_count": 68,
   "id": "b95c344a",
   "metadata": {},
   "outputs": [
    {
     "name": "stdout",
     "output_type": "stream",
     "text": [
      "enter a word: racecare\n",
      "not a palindrome\n"
     ]
    }
   ],
   "source": [
    "# 1) reverse of a string \n",
    "# 2) if original string == reverse string then it is a palindrome\n",
    "\n",
    "str1 = input(\"enter a word: \")\n",
    "reverse_str1 = str1[::-1]\n",
    "if str1 == reverse_str1:\n",
    "    print(\"is palindrome\")\n",
    "else:\n",
    "    print(\"not a palindrome\")\n"
   ]
  },
  {
   "cell_type": "markdown",
   "id": "66552347",
   "metadata": {},
   "source": [
    "# 4] Vowel Counter: dict\n",
    "Write a program that takes a sentence as input and counts the number of vowels in it."
   ]
  },
  {
   "cell_type": "code",
   "execution_count": 26,
   "id": "f68350ed",
   "metadata": {},
   "outputs": [
    {
     "name": "stdout",
     "output_type": "stream",
     "text": [
      "enter a sentence: KOmaLi\n",
      "no.of vowels in a sentence is: 3\n"
     ]
    }
   ],
   "source": [
    "sentence = input(\"enter a sentence: \")\n",
    "vowels = \"AaEeIiOoUu\" #char that are in upper and lower will count\n",
    "# vowels='aeiou'\n",
    "count = 0              # assign 0 to count \n",
    "for i in sentence:\n",
    "    if i in vowels:\n",
    "        count = count + 1  # when ever vowel is found, it will increase the count by 1.\n",
    "print(\"no.of vowels in a sentence is:\",count)\n"
   ]
  },
  {
   "cell_type": "markdown",
   "id": "67ddeb56",
   "metadata": {},
   "source": [
    "# 5] Factorial Calculator:\n",
    "Implement a program that calculates the factorial of a given number using loops."
   ]
  },
  {
   "cell_type": "code",
   "execution_count": 27,
   "id": "74567df9",
   "metadata": {},
   "outputs": [
    {
     "name": "stdout",
     "output_type": "stream",
     "text": [
      "enter a number: 6\n",
      "factorial of a 6 is 720\n"
     ]
    }
   ],
   "source": [
    "number = int(input(\"enter a number: \"))\n",
    "result = 1                    #if we take result as 0 , then the number*0 = 0 , so assign it to 1.\n",
    "for i in range(number,0,-1):  # 1,2,3,...(n-1),n , step count to -1\n",
    "    result = result*i\n",
    "print(\"factorial of a\",number, \"is\",result)\n"
   ]
  },
  {
   "cell_type": "markdown",
   "id": "91f827df",
   "metadata": {},
   "source": [
    "# 6] FizzBuzz:\n",
    "Write a program that prints the numbers from 1 to 100. But for multiples of three, print \"Fizz\" instead of the number, \n",
    "and for the multiples of five, print \"Buzz.\" For numbers that are multiples of both three and five, print \"FizzBuzz.\""
   ]
  },
  {
   "cell_type": "code",
   "execution_count": 117,
   "id": "8f3c7d48",
   "metadata": {},
   "outputs": [
    {
     "name": "stdout",
     "output_type": "stream",
     "text": [
      "1 , 2 , Fizz , 4 , Buzz , Fizz , 7 , 8 , Fizz , Buzz , 11 , Fizz , 13 , 14 , FizzBuzz , 16 , 17 , Fizz , 19 , Buzz , Fizz , 22 , 23 , Fizz , Buzz , 26 , Fizz , 28 , 29 , FizzBuzz , 31 , 32 , Fizz , 34 , Buzz , Fizz , 37 , 38 , Fizz , Buzz , 41 , Fizz , 43 , 44 , FizzBuzz , 46 , 47 , Fizz , 49 , Buzz , Fizz , 52 , 53 , Fizz , Buzz , 56 , Fizz , 58 , 59 , FizzBuzz , 61 , 62 , Fizz , 64 , Buzz , Fizz , 67 , 68 , Fizz , Buzz , 71 , Fizz , 73 , 74 , FizzBuzz , 76 , 77 , Fizz , 79 , Buzz , Fizz , 82 , 83 , Fizz , Buzz , 86 , Fizz , 88 , 89 , FizzBuzz , 91 , 92 , Fizz , 94 , Buzz , Fizz , 97 , 98 , Fizz , Buzz , "
     ]
    }
   ],
   "source": [
    "for num in range(1,101):\n",
    "    if num % 3 == 0 and num % 5 == 0:    #if we write this statement at end , it will not print frizzbuzz, because it already\n",
    "        print(\"FizzBuzz\", end = \" , \")             # checked with 3 and 5 , so doesnot go to that statement.\n",
    "    elif num % 3 == 0:\n",
    "        print(\"Fizz\", end = \" , \")\n",
    "    elif num % 5 == 0:\n",
    "        print(\"Buzz\", end = \" , \")\n",
    "    else:\n",
    "        print(num, end = \" , \")"
   ]
  },
  {
   "cell_type": "markdown",
   "id": "a2e8b4e9",
   "metadata": {},
   "source": [
    "# 7] Find Maximum in List:\n",
    "Write a program that finds and prints the maximum number in a given list."
   ]
  },
  {
   "cell_type": "code",
   "execution_count": 28,
   "id": "910054da",
   "metadata": {},
   "outputs": [
    {
     "name": "stdout",
     "output_type": "stream",
     "text": [
      "maximun number in the list is: 99\n"
     ]
    }
   ],
   "source": [
    "list1 = [ 1,2,3,4,6,7,8,99]\n",
    "print(\"maximun number in the list is:\",max(list1))"
   ]
  },
  {
   "cell_type": "markdown",
   "id": "2c530d9d",
   "metadata": {},
   "source": [
    "# 8] Character Frequency Counter: dict\n",
    "Create a program that takes a string as input and counts the frequency of each character in the string."
   ]
  },
  {
   "cell_type": "code",
   "execution_count": 3,
   "id": "98f4b30c",
   "metadata": {},
   "outputs": [
    {
     "name": "stdout",
     "output_type": "stream",
     "text": [
      "Enter a string: komali\n",
      "Character frequencies:\n",
      " 'k': 1 times\n",
      " 'o': 1 times\n",
      " 'm': 1 times\n",
      " 'a': 1 times\n",
      " 'l': 1 times\n",
      " 'i': 1 times\n"
     ]
    }
   ],
   "source": [
    "str1 = input(\"Enter a string: \")\n",
    "char_frequency = {}\n",
    "for char in str1:\n",
    "    if char in char_frequency:\n",
    "        char_frequency[char] += 1\n",
    "    else:\n",
    "        char_frequency[char] = 1\n",
    "print(\"Character frequencies:\")\n",
    "for char, frequency in char_frequency.items():\n",
    "    print(f\" '{char}': {frequency} times\")\n"
   ]
  },
  {
   "cell_type": "code",
   "execution_count": 1,
   "id": "1908f03e",
   "metadata": {},
   "outputs": [
    {
     "name": "stdout",
     "output_type": "stream",
     "text": [
      "Enter a string: komali\n",
      "[['k', 1], ['o', 1], ['m', 1], ['a', 1], ['l', 1], ['i', 1]]\n",
      "Character frequencies:\n",
      " 'k': 1 times\n",
      " 'o': 1 times\n",
      " 'm': 1 times\n",
      " 'a': 1 times\n",
      " 'l': 1 times\n",
      " 'i': 1 times\n"
     ]
    }
   ],
   "source": [
    "#doubt:\n",
    "input_string = input(\"Enter a string: \")\n",
    "\n",
    "# List to store character frequencies\n",
    "char_frequency = []\n",
    "\n",
    "# Counting the frequency of each character\n",
    "for char in input_string:\n",
    "    # Check if character is already in the list\n",
    "    char_exists = False\n",
    "    for pair in char_frequency:\n",
    "        if pair[0] == char:\n",
    "            pair[1] += 1\n",
    "            char_exists = True\n",
    "            break\n",
    "    \n",
    "    # If character is not in the list, add a new pair\n",
    "    if not char_exists:\n",
    "        char_frequency.append([char, 1])\n",
    "print(char_frequency)\n",
    "# Displaying the results\n",
    "print(\"Character frequencies:\")\n",
    "for pair in char_frequency:\n",
    "    print(f\" '{pair[0]}': {pair[1]} times\")"
   ]
  },
  {
   "cell_type": "markdown",
   "id": "72c441ed",
   "metadata": {},
   "source": [
    "# 9] List Concatenation:\n",
    "Write a program that takes two lists as input and concatenates them into a single list."
   ]
  },
  {
   "cell_type": "code",
   "execution_count": 130,
   "id": "00f5f1d7",
   "metadata": {},
   "outputs": [
    {
     "name": "stdout",
     "output_type": "stream",
     "text": [
      "concatenated list is: ['apple', 'mango', 'grape', 'carrot']\n"
     ]
    }
   ],
   "source": [
    "list1 = [\"apple\",\"mango\"]\n",
    "list2 = [\"grape\",\"carrot\"]\n",
    "result = list1 + list2\n",
    "print(\"concatenated list is:\",result)\n",
    "\n"
   ]
  },
  {
   "cell_type": "markdown",
   "id": "95fdc754",
   "metadata": {},
   "source": [
    "# 10] Password Strength Checker:\n",
    "Implement a program that checks the strength of a password. Consider a strong password to have a minimum length, a mix of \n",
    "uppercase and lowercase letters, and at least one special character."
   ]
  },
  {
   "cell_type": "code",
   "execution_count": 41,
   "id": "14d62a70",
   "metadata": {},
   "outputs": [
    {
     "name": "stdout",
     "output_type": "stream",
     "text": [
      "Enter your password: ygtrerfv\n",
      "Password is weak\n"
     ]
    }
   ],
   "source": [
    "#doubt\n",
    "min_length = 8\n",
    "special_characters = ('!', '@', '#', '$', '%', '^', '&', '*')\n",
    "password = input(\"Enter your password: \")\n",
    "\n",
    "if len(password) < min_length:\n",
    "    print(\"Password length should be greater than 8\")\n",
    "else:\n",
    "    has_upper = has_lower = has_special = False  #boolean values and set it to false\n",
    "    for char in password:\n",
    "        if char.isupper():\n",
    "            has_upper = True\n",
    "        elif char.islower():\n",
    "            has_lower = True\n",
    "        elif char in special_characters:\n",
    "            has_special = True\n",
    "    if has_upper and has_lower and has_special:\n",
    "        print(\"Password is strong! Good job\")\n",
    "    else:\n",
    "        print(\"Password is weak\")"
   ]
  },
  {
   "cell_type": "code",
   "execution_count": null,
   "id": "0a8ede1a",
   "metadata": {},
   "outputs": [],
   "source": []
  }
 ],
 "metadata": {
  "kernelspec": {
   "display_name": "Python 3 (ipykernel)",
   "language": "python",
   "name": "python3"
  },
  "language_info": {
   "codemirror_mode": {
    "name": "ipython",
    "version": 3
   },
   "file_extension": ".py",
   "mimetype": "text/x-python",
   "name": "python",
   "nbconvert_exporter": "python",
   "pygments_lexer": "ipython3",
   "version": "3.9.13"
  }
 },
 "nbformat": 4,
 "nbformat_minor": 5
}
