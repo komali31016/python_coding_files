{
 "cells": [
  {
   "cell_type": "code",
   "execution_count": null,
   "id": "efc611ce",
   "metadata": {},
   "outputs": [],
   "source": [
    "1. Implement a program to create a dictionary from two lists, one containing keys and the other containing values.\n",
    "2. Write a Python function that takes a list of dictionaries, where each dictionary represents a person with keys 'name' and 'age'. The function should return a dictionary where the keys are age ranges (e.g., '0-20', '21-40', '41-60', '>60') and the values are lists of names falling into each age range.\n",
    "3. Create a function that checks if all strings in a tuple are uppercase.\n",
    "4. Write a Python function that accepts a tuple of strings as input and returns a dictionary where the keys are the unique lengths of the strings and the values are lists of strings of that length.\n",
    "5. Create a function to print perefect number between 200-500\n",
    "6.Develop a Python program that calculates the sum of all even numbers from 1 to 100. Use a while loop to iterate through the numbers and add only the even ones to the sum.\n",
    "7.write a function to find symmetric difference between 2 sets \n",
    "8. Write a Python program that takes a list of integers and returns a set containing only the unique prime numbers from the list.\n",
    "9. write a function using lambda to filter all odd numbers in a list\n",
    "10.Implement a Python program that prompts the user to enter a number between 1 and 10. Keep prompting until the user enters a valid number within the specified range."
   ]
  },
  {
   "cell_type": "markdown",
   "id": "3fe19069",
   "metadata": {},
   "source": [
    "1. Implement a program to create a dictionary from two lists, one containing keys and the other containing values."
   ]
  },
  {
   "cell_type": "code",
   "execution_count": 83,
   "id": "b468f346",
   "metadata": {},
   "outputs": [
    {
     "name": "stdout",
     "output_type": "stream",
     "text": [
      "{'a': 1, 'b': 2, 'c': 3, 'd': 4}\n"
     ]
    }
   ],
   "source": [
    "lst_keys = ['a','b','c','d']      # 1st list with keys\n",
    "lst_values = [1, 2, 3, 4]         # 2nd list with values\n",
    "dic = {}  # empty dict\n",
    "for i in range(len(keys)):\n",
    "    dic[keys[i]] = values[i]\n",
    "print(dic)\n"
   ]
  },
  {
   "cell_type": "markdown",
   "id": "4a11a163",
   "metadata": {},
   "source": [
    "2. Write a Python function that takes a list of dictionaries, where each dictionary represents a person with keys 'name' and \n",
    "'age'. The function should return a dictionary where the keys are age ranges (e.g., '0-20', '21-40', '41-60', '>60') and \n",
    "the values are lists of names falling into each age range."
   ]
  },
  {
   "cell_type": "code",
   "execution_count": null,
   "id": "1dcd22f7",
   "metadata": {},
   "outputs": [],
   "source": []
  },
  {
   "cell_type": "markdown",
   "id": "b3e67ca7",
   "metadata": {},
   "source": [
    "3.Create a function that checks if all strings in a tuple are uppercase."
   ]
  },
  {
   "cell_type": "code",
   "execution_count": 84,
   "id": "b2b3b2d4",
   "metadata": {},
   "outputs": [
    {
     "name": "stdout",
     "output_type": "stream",
     "text": [
      "True\n"
     ]
    }
   ],
   "source": [
    "def all_uppercase(strings):\n",
    "    for string in strings:\n",
    "        if not string.isupper():  # if string is not in upper , false\n",
    "            return False\n",
    "    return True\n",
    "\n",
    "tuple1 = (\"HELLO\", \"WORLD\", \"PYTHON\")\n",
    "print(all_uppercase(tuple1)) \n"
   ]
  },
  {
   "cell_type": "markdown",
   "id": "b5e22348",
   "metadata": {},
   "source": [
    "4. Write a Python function that accepts a tuple of strings as input and returns a dictionary where the keys are the unique lengths of the strings and the values are lists of strings of that length."
   ]
  },
  {
   "cell_type": "code",
   "execution_count": null,
   "id": "7eb3ef63",
   "metadata": {},
   "outputs": [],
   "source": []
  },
  {
   "cell_type": "markdown",
   "id": "f7e2b30e",
   "metadata": {},
   "source": [
    "5.Create a function to print perefect number between 200-500"
   ]
  },
  {
   "cell_type": "code",
   "execution_count": 85,
   "id": "1dd72c1f",
   "metadata": {},
   "outputs": [
    {
     "name": "stdout",
     "output_type": "stream",
     "text": [
      "496\n"
     ]
    }
   ],
   "source": [
    "# all factors sum is equal to given number\n",
    "def perf_number():\n",
    "    for num in range(200, 501):  \n",
    "        sum = 0  # intialise sum to 0\n",
    "        for i in range(1, num):\n",
    "            if num % i == 0:   # if it a facotr\n",
    "                sum = sum + i  # add it to the sum\n",
    "        if sum == num:\n",
    "            print(num)\n",
    "perf_number()            # call the function\n"
   ]
  },
  {
   "cell_type": "markdown",
   "id": "7358d996",
   "metadata": {},
   "source": [
    "6.Develop a Python program that calculates the sum of all even numbers from 1 to 100. Use a while loop to iterate through the numbers and add only the even ones to the sum."
   ]
  },
  {
   "cell_type": "code",
   "execution_count": 86,
   "id": "f076cd1f",
   "metadata": {},
   "outputs": [
    {
     "name": "stdout",
     "output_type": "stream",
     "text": [
      "The sum of even numbers from 1 to 100 is: 2550\n"
     ]
    }
   ],
   "source": [
    "# used for loop,\n",
    "sum = 0\n",
    "for num in range(1, 101):\n",
    "    if num % 2 == 0:\n",
    "        sum = sum + num  \n",
    "print(\"The sum of even numbers from 1 to 100 is:\", sum)"
   ]
  },
  {
   "cell_type": "markdown",
   "id": "acf55b00",
   "metadata": {},
   "source": [
    "7.write a function to find symmetric difference between 2 sets "
   ]
  },
  {
   "cell_type": "code",
   "execution_count": 87,
   "id": "629eeabf",
   "metadata": {},
   "outputs": [
    {
     "name": "stdout",
     "output_type": "stream",
     "text": [
      "Symmetric Difference: {0, 1, 2, 3, 5, 6, 7, 8}\n"
     ]
    }
   ],
   "source": [
    "# returns values that are not common in both sets\n",
    "# set.symmetric_difference(set1,set2,..)\n",
    "def symmetric_difference(set1, set2):\n",
    "    return set1.symmetric_difference(set2)\n",
    "\n",
    "set1 = {0,1,2,3,4}\n",
    "set2 = {4,5,6,7,8}\n",
    "sym_diff = symmetric_difference(set1, set2)\n",
    "print(\"Symmetric Difference:\", sym_diff)\n"
   ]
  },
  {
   "cell_type": "markdown",
   "id": "7516622e",
   "metadata": {},
   "source": [
    "8. Write a Python program that takes a list of integers and returns a set containing only the unique prime numbers from the list."
   ]
  },
  {
   "cell_type": "code",
   "execution_count": 88,
   "id": "842c1ca5",
   "metadata": {},
   "outputs": [
    {
     "name": "stdout",
     "output_type": "stream",
     "text": [
      "Unique prime numbers: {2, 3, 5, 7}\n"
     ]
    }
   ],
   "source": [
    "numbers = [1,2,3,4,5,6,7,8,9,10,1,2,3,4,5,6,7,8,9,10]\n",
    "unique_primes = set()  # defined a set to remove duplicates\n",
    "for num in numbers:\n",
    "    if num > 1:\n",
    "        prime_number = True\n",
    "        for i in range(2, num):  \n",
    "            if num % i == 0:\n",
    "                prime_number = False\n",
    "                break\n",
    "        if prime_number:\n",
    "            unique_primes.add(num)\n",
    "\n",
    "print(\"Unique prime numbers:\", unique_primes)"
   ]
  },
  {
   "cell_type": "markdown",
   "id": "c3e9c696",
   "metadata": {},
   "source": [
    "9. write a function using lambda to filter all odd numbers in a list"
   ]
  },
  {
   "cell_type": "code",
   "execution_count": 80,
   "id": "e973bd39",
   "metadata": {},
   "outputs": [
    {
     "ename": "TypeError",
     "evalue": "list expected at most 1 argument, got 2",
     "output_type": "error",
     "traceback": [
      "\u001b[1;31m---------------------------------------------------------------------------\u001b[0m",
      "\u001b[1;31mTypeError\u001b[0m                                 Traceback (most recent call last)",
      "\u001b[1;32m~\\AppData\\Local\\Temp\\ipykernel_19988\\3311335042.py\u001b[0m in \u001b[0;36m<module>\u001b[1;34m\u001b[0m\n\u001b[0;32m      1\u001b[0m \u001b[0mnumbers\u001b[0m \u001b[1;33m=\u001b[0m \u001b[1;33m[\u001b[0m\u001b[1;36m1\u001b[0m\u001b[1;33m,\u001b[0m \u001b[1;36m2\u001b[0m\u001b[1;33m,\u001b[0m \u001b[1;36m3\u001b[0m\u001b[1;33m,\u001b[0m \u001b[1;36m4\u001b[0m\u001b[1;33m,\u001b[0m \u001b[1;36m5\u001b[0m\u001b[1;33m,\u001b[0m \u001b[1;36m6\u001b[0m\u001b[1;33m,\u001b[0m \u001b[1;36m7\u001b[0m\u001b[1;33m,\u001b[0m \u001b[1;36m8\u001b[0m\u001b[1;33m,\u001b[0m \u001b[1;36m9\u001b[0m\u001b[1;33m,\u001b[0m \u001b[1;36m10\u001b[0m\u001b[1;33m]\u001b[0m\u001b[1;33m\u001b[0m\u001b[1;33m\u001b[0m\u001b[0m\n\u001b[1;32m----> 2\u001b[1;33m \u001b[0mfilter_odd_numbers\u001b[0m \u001b[1;33m=\u001b[0m \u001b[0mlist\u001b[0m\u001b[1;33m(\u001b[0m\u001b[1;32mlambda\u001b[0m \u001b[0mx\u001b[0m\u001b[1;33m:\u001b[0m \u001b[0mx\u001b[0m \u001b[1;33m%\u001b[0m \u001b[1;36m2\u001b[0m \u001b[1;33m==\u001b[0m \u001b[1;36m1\u001b[0m\u001b[1;33m,\u001b[0m \u001b[0mnumbers\u001b[0m\u001b[1;33m)\u001b[0m\u001b[1;33m\u001b[0m\u001b[1;33m\u001b[0m\u001b[0m\n\u001b[0m\u001b[0;32m      3\u001b[0m \u001b[0mprint\u001b[0m\u001b[1;33m(\u001b[0m\u001b[1;34m\"Filtered odd numbers:\"\u001b[0m\u001b[1;33m,\u001b[0m \u001b[0mfilter_odd_numbers\u001b[0m\u001b[1;33m)\u001b[0m\u001b[1;33m\u001b[0m\u001b[1;33m\u001b[0m\u001b[0m\n",
      "\u001b[1;31mTypeError\u001b[0m: list expected at most 1 argument, got 2"
     ]
    }
   ],
   "source": [
    "numbers = [1, 2, 3, 4, 5, 6, 7, 8, 9, 10]\n",
    "filter_odd_numbers = lambda x: x % 2 == 1, numbers\n"
   ]
  },
  {
   "cell_type": "markdown",
   "id": "9fb7c226",
   "metadata": {},
   "source": [
    "10.Implement a Python program that prompts the user to enter a number between 1 and 10. Keep prompting until the user enters a valid number within the specified range."
   ]
  },
  {
   "cell_type": "code",
   "execution_count": 64,
   "id": "5a495800",
   "metadata": {},
   "outputs": [
    {
     "name": "stdout",
     "output_type": "stream",
     "text": [
      "Please enter a number between 1 and 10: 8\n"
     ]
    },
    {
     "ename": "TypeError",
     "evalue": "argument of type 'int' is not iterable",
     "output_type": "error",
     "traceback": [
      "\u001b[1;31m---------------------------------------------------------------------------\u001b[0m",
      "\u001b[1;31mTypeError\u001b[0m                                 Traceback (most recent call last)",
      "\u001b[1;32m~\\AppData\\Local\\Temp\\ipykernel_19988\\2883391145.py\u001b[0m in \u001b[0;36m<module>\u001b[1;34m\u001b[0m\n\u001b[0;32m      1\u001b[0m \u001b[1;32mwhile\u001b[0m \u001b[1;32mTrue\u001b[0m\u001b[1;33m:\u001b[0m\u001b[1;33m\u001b[0m\u001b[1;33m\u001b[0m\u001b[0m\n\u001b[0;32m      2\u001b[0m     \u001b[0muser_input\u001b[0m \u001b[1;33m=\u001b[0m \u001b[0mint\u001b[0m\u001b[1;33m(\u001b[0m\u001b[0minput\u001b[0m\u001b[1;33m(\u001b[0m\u001b[1;34m\"Please enter a number between 1 and 10: \"\u001b[0m\u001b[1;33m)\u001b[0m\u001b[1;33m)\u001b[0m\u001b[1;33m\u001b[0m\u001b[1;33m\u001b[0m\u001b[0m\n\u001b[1;32m----> 3\u001b[1;33m     \u001b[1;32mif\u001b[0m \u001b[0mnum\u001b[0m \u001b[1;32min\u001b[0m \u001b[0muser_input\u001b[0m\u001b[1;33m:\u001b[0m\u001b[1;33m\u001b[0m\u001b[1;33m\u001b[0m\u001b[0m\n\u001b[0m\u001b[0;32m      4\u001b[0m         \u001b[0mnumber\u001b[0m \u001b[1;33m=\u001b[0m \u001b[0muser_input\u001b[0m\u001b[1;33m\u001b[0m\u001b[1;33m\u001b[0m\u001b[0m\n\u001b[0;32m      5\u001b[0m         \u001b[1;32mif\u001b[0m \u001b[1;36m1\u001b[0m\u001b[1;33m<=\u001b[0m \u001b[0mnumber\u001b[0m \u001b[1;33m<=\u001b[0m \u001b[1;36m10\u001b[0m\u001b[1;33m:\u001b[0m\u001b[1;33m\u001b[0m\u001b[1;33m\u001b[0m\u001b[0m\n",
      "\u001b[1;31mTypeError\u001b[0m: argument of type 'int' is not iterable"
     ]
    }
   ],
   "source": [
    "while True:\n",
    "    user_input = int(input(\"Please enter a number between 1 and 10: \"))\n",
    "    if num in user_input:\n",
    "        number = user_input\n",
    "        if 1<= number <= 10:\n",
    "            print(number)\n",
    "        else:\n",
    "            print(\"enter only numbers b/w 1 to 10\")\n",
    "    else:\n",
    "        print(\"invalid number\")\n",
    "    "
   ]
  }
 ],
 "metadata": {
  "kernelspec": {
   "display_name": "Python 3 (ipykernel)",
   "language": "python",
   "name": "python3"
  },
  "language_info": {
   "codemirror_mode": {
    "name": "ipython",
    "version": 3
   },
   "file_extension": ".py",
   "mimetype": "text/x-python",
   "name": "python",
   "nbconvert_exporter": "python",
   "pygments_lexer": "ipython3",
   "version": "3.9.13"
  }
 },
 "nbformat": 4,
 "nbformat_minor": 5
}
