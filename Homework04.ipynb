{
 "cells": [
  {
   "cell_type": "markdown",
   "id": "8fb07b62",
   "metadata": {},
   "source": [
    "1) Write a program to iterate through a tuple of strings and print each string."
   ]
  },
  {
   "cell_type": "code",
   "execution_count": 4,
   "id": "3da6d537",
   "metadata": {},
   "outputs": [
    {
     "name": "stdout",
     "output_type": "stream",
     "text": [
      "it,is,snowy,outside,"
     ]
    }
   ],
   "source": [
    "tuple1 = ('it','is','snowy','outside')\n",
    "for string in tuple1:\n",
    "    print(string , end = \",\")\n"
   ]
  },
  {
   "cell_type": "markdown",
   "id": "b38ff28a",
   "metadata": {},
   "source": [
    "2) Implement a function to concatenate two tuples of strings into a single tuple."
   ]
  },
  {
   "cell_type": "code",
   "execution_count": 6,
   "id": "829fcac1",
   "metadata": {},
   "outputs": [
    {
     "name": "stdout",
     "output_type": "stream",
     "text": [
      "('it', 'is', 'snowy', 'lets', 'go', 'out')\n"
     ]
    }
   ],
   "source": [
    "def tuple_concatenate(tuple1,tuple2):\n",
    "    result = tuple1+ tuple2\n",
    "    return result\n",
    "    \n",
    "tuple1 = ('it','is','snowy')\n",
    "tuple2 = ('lets','go','out')\n",
    "result = tuple_concatenate(tuple1,tuple2)\n",
    "print(result)"
   ]
  },
  {
   "cell_type": "markdown",
   "id": "c6808d6d",
   "metadata": {},
   "source": [
    "3) Create a program to find the length of each string in a tuple and store the lengths in another tuple."
   ]
  },
  {
   "cell_type": "code",
   "execution_count": 10,
   "id": "1373398d",
   "metadata": {},
   "outputs": [
    {
     "name": "stdout",
     "output_type": "stream",
     "text": [
      "length of each string in tuple1 is: (2, 2, 5, 7)\n"
     ]
    }
   ],
   "source": [
    "tuple1 = ('it','is','snowy','outside')\n",
    "tuple2 = [] # empty list\n",
    "for string in tuple1:\n",
    "    tuple2.append(len(string))\n",
    "lengths = tuple(tuple2) #converting list to tuple\n",
    "print(\"length of each string in tuple1 is:\",lengths)\n"
   ]
  },
  {
   "cell_type": "markdown",
   "id": "e9d59647",
   "metadata": {},
   "source": [
    "4) Write a function to find the index of a specified string in a tuple of strings."
   ]
  },
  {
   "cell_type": "code",
   "execution_count": 5,
   "id": "f4054cf2",
   "metadata": {},
   "outputs": [
    {
     "name": "stdout",
     "output_type": "stream",
     "text": [
      "1\n"
     ]
    }
   ],
   "source": [
    "def find_index(tuple_of_strings, target_string):\n",
    "    index = -1\n",
    "    for i in range(len(tuple_of_strings)):\n",
    "        if tuple_of_strings[i] == target_string:\n",
    "            index = i\n",
    "            break\n",
    "    return index\n",
    "\n",
    "tuple_of_strings = (\"komali\", \"babu\", \"ilamok\", \"ubab\")\n",
    "target_string = \"babu\"\n",
    "print(find_index(tuple_of_strings, target_string))  \n"
   ]
  },
  {
   "cell_type": "markdown",
   "id": "c37c8e8f",
   "metadata": {},
   "source": [
    "5) Develop a program to count the number of occurrences of a specific character in each string of a tuple."
   ]
  },
  {
   "cell_type": "code",
   "execution_count": 21,
   "id": "7dc85b02",
   "metadata": {},
   "outputs": [
    {
     "name": "stdout",
     "output_type": "stream",
     "text": [
      " no.of 'a' in 'aashi' :2 times\n",
      " no.of 'a' in 'komali' :1 times\n",
      " no.of 'a' in 'syamala' :3 times\n",
      " no.of 'a' in 'babu' :1 times\n"
     ]
    }
   ],
   "source": [
    "my_tuple = (\"aashi\",\"komali\",\"syamala\",\"babu\")\n",
    "target_char = \"a\"\n",
    "for string in my_tuple:\n",
    "    char_count = string.count(target_char)\n",
    "    print(f\" no.of '{specific_char}' in '{string}' :{char_count} times\")\n",
    "    "
   ]
  },
  {
   "cell_type": "markdown",
   "id": "77109a53",
   "metadata": {},
   "source": [
    "6) Implement a function to sort a tuple of strings alphabetically."
   ]
  },
  {
   "cell_type": "code",
   "execution_count": 16,
   "id": "5f1eb876",
   "metadata": {},
   "outputs": [
    {
     "name": "stdout",
     "output_type": "stream",
     "text": [
      "('ert', 'fre', 'trf', 'xyz')\n"
     ]
    }
   ],
   "source": [
    "def strings_alphabetically(strings):\n",
    "    sorted_tuple = tuple(sorted(strings))\n",
    "    return sorted_tuple\n",
    "\n",
    "tuple1 = ('xyz','ert','trf','fre')\n",
    "sorted_strings = strings_alphabetically(tuple1)\n",
    "print(sorted_strings)\n"
   ]
  },
  {
   "cell_type": "markdown",
   "id": "94bdd49f",
   "metadata": {},
   "source": [
    "7) Write a program to find the longest string in a tuple."
   ]
  },
  {
   "cell_type": "code",
   "execution_count": 10,
   "id": "a8aea3cf",
   "metadata": {},
   "outputs": [
    {
     "name": "stdout",
     "output_type": "stream",
     "text": [
      "The longest string is: banana\n"
     ]
    }
   ],
   "source": [
    "tuple1 = ('apple', 'banana', 'orange', 'grape')\n",
    "longest_string = \" \"\n",
    "for string in tuple1:\n",
    "    if len(string) > len(longest_string):\n",
    "        longest_string = string\n",
    "\n",
    "print(\"The longest string is:\", longest_string)\n"
   ]
  },
  {
   "cell_type": "markdown",
   "id": "7be684f8",
   "metadata": {},
   "source": [
    "***8) Create a function that checks if all strings in a tuple are uppercase."
   ]
  },
  {
   "cell_type": "code",
   "execution_count": 25,
   "id": "21817883",
   "metadata": {},
   "outputs": [],
   "source": [
    "# def all_strings_uppercase(strings):\n",
    "#     all_upper = False\n",
    "#     for string in strings:\n",
    "#         if not string.isupper():\n",
    "#             all_upper = True\n",
    "#             break\n",
    "#     return all_upper\n",
    "\n",
    "# tuple1 = ('AVC','ASED','PORT')\n",
    "# print(all_strings_uppercase(tuple1))\n",
    "                   "
   ]
  },
  {
   "cell_type": "markdown",
   "id": "a75fa885",
   "metadata": {},
   "source": [
    "9) Develop a program to reverse each string in a tuple and store the reversed strings in another tuple."
   ]
  },
  {
   "cell_type": "code",
   "execution_count": 26,
   "id": "f433660f",
   "metadata": {},
   "outputs": [
    {
     "name": "stdout",
     "output_type": "stream",
     "text": [
      "('ew', 'era', 'gniog', 'tuo')\n"
     ]
    }
   ],
   "source": [
    "tup1 = ('we','are', 'going', 'out')\n",
    "lst1 = [] # empty list\n",
    "for string in tup1:\n",
    "    reversed_string = string[::-1]\n",
    "    lst1.append(reversed_string)\n",
    "\n",
    "tup3 = tuple(lst1)\n",
    "print(tup3)\n",
    "    "
   ]
  },
  {
   "cell_type": "markdown",
   "id": "df5ad523",
   "metadata": {},
   "source": [
    "10) Implement a function to remove all occurrences of a specified character from each string in a tuple."
   ]
  },
  {
   "cell_type": "code",
   "execution_count": 6,
   "id": "3791efce",
   "metadata": {},
   "outputs": [
    {
     "name": "stdout",
     "output_type": "stream",
     "text": [
      "('pple', 'bnn', 'ornge', 'grpe')\n"
     ]
    }
   ],
   "source": [
    "def remove_char(tuple_of_strings, char_to_remove):\n",
    "    result = []\n",
    "    for string in tuple_of_strings:\n",
    "        modified_string = string.replace(char_to_remove, '')\n",
    "        result.append(modified_string)\n",
    "    return tuple(result)\n",
    "\n",
    "tuple_of_strings = (\"apple\", \"banana\", \"orange\", \"grape\")\n",
    "char_to_remove = \"a\"\n",
    "print(remove_char(tuple_of_strings, char_to_remove))\n"
   ]
  },
  {
   "cell_type": "markdown",
   "id": "9195bc8b",
   "metadata": {},
   "source": [
    "11) Write a program to find and display all the duplicate strings in a tuple"
   ]
  },
  {
   "cell_type": "code",
   "execution_count": 7,
   "id": "7ab6cfa9",
   "metadata": {},
   "outputs": [
    {
     "name": "stdout",
     "output_type": "stream",
     "text": [
      "Duplicate strings: ['apple', 'banana']\n"
     ]
    }
   ],
   "source": [
    "tuple_of_strings = (\"apple\", \"banana\", \"orange\", \"grape\", \"apple\", \"banana\")\n",
    "duplicates = []\n",
    "for i in range(len(tuple_of_strings)):\n",
    "    if tuple_of_strings[i] in tuple_of_strings[i+1:]:\n",
    "        if tuple_of_strings[i] not in duplicates:\n",
    "            duplicates.append(tuple_of_strings[i])\n",
    "\n",
    "print(\"Duplicate strings:\", duplicates)\n"
   ]
  },
  {
   "cell_type": "markdown",
   "id": "5a1f7c71",
   "metadata": {},
   "source": [
    "12) Create a function that capitalizes the first letter of each string in a tuple."
   ]
  },
  {
   "cell_type": "code",
   "execution_count": 17,
   "id": "3a28c0a7",
   "metadata": {},
   "outputs": [
    {
     "name": "stdout",
     "output_type": "stream",
     "text": [
      "('Apple', 'Banana', 'Orange', 'Grape')\n"
     ]
    }
   ],
   "source": [
    "def capitalize_first_letter(tuple_of_strings):\n",
    "    capitalized_strings = tuple(string.capitalize() for string in tuple_of_strings)\n",
    "    return capitalized_strings\n",
    "\n",
    "tuple_of_strings = (\"apple\", \"banana\", \"orange\", \"grape\")\n",
    "capitalized_tuple = capitalize_first_letter(tuple_of_strings)\n",
    "print(capitalized_tuple)\n"
   ]
  },
  {
   "cell_type": "markdown",
   "id": "620affcf",
   "metadata": {},
   "source": [
    "13) Develop a program to find the frequency of each character in each string of a tuple."
   ]
  },
  {
   "cell_type": "code",
   "execution_count": 20,
   "id": "d4014494",
   "metadata": {},
   "outputs": [
    {
     "name": "stdout",
     "output_type": "stream",
     "text": [
      "String: apple\n",
      "Character Frequencies: {'a': 1, 'p': 2, 'l': 1, 'e': 1}\n",
      "String: banana\n",
      "Character Frequencies: {'b': 1, 'a': 3, 'n': 2}\n",
      "String: orange\n",
      "Character Frequencies: {'o': 1, 'r': 1, 'a': 1, 'n': 1, 'g': 1, 'e': 1}\n",
      "String: grape\n",
      "Character Frequencies: {'g': 1, 'r': 1, 'a': 1, 'p': 1, 'e': 1}\n"
     ]
    }
   ],
   "source": [
    "tuple_of_strings = (\"apple\", \"banana\", \"orange\", \"grape\")\n",
    "for string in tuple_of_strings:\n",
    "    frequency_dict = {}\n",
    "    for char in string:\n",
    "        if char in frequency_dict:\n",
    "            frequency_dict[char] += 1\n",
    "        else:\n",
    "            frequency_dict[char] = 1\n",
    "    \n",
    "    \n",
    "    print(\"String:\", string)\n",
    "    print(\"Character Frequencies:\", frequency_dict)\n",
    "    \n"
   ]
  },
  {
   "cell_type": "markdown",
   "id": "3fddc9a2",
   "metadata": {},
   "source": [
    "***14) Implement a function that checks if all strings in a tuple are palindromes."
   ]
  },
  {
   "cell_type": "code",
   "execution_count": 24,
   "id": "746c92cf",
   "metadata": {},
   "outputs": [
    {
     "name": "stdout",
     "output_type": "stream",
     "text": [
      "True\n"
     ]
    }
   ],
   "source": [
    "# def all_palindromes(tuple_of_strings):\n",
    "#     def is_palindrome(string):\n",
    "#         return string == string[::-1]\n",
    "#     return all(is_palindrome(string) for string in tuple_of_strings)\n",
    "\n",
    "# tuple_of_strings1 = (\"radar\", \"level\", \"deified\", \"noon\")\n",
    "# print(all_palindromes(tuple_of_strings1))  \n",
    "  "
   ]
  },
  {
   "cell_type": "markdown",
   "id": "258267be",
   "metadata": {},
   "source": [
    "***15) Write a program to remove all whitespace characters from each string in a tuple."
   ]
  },
  {
   "cell_type": "code",
   "execution_count": 26,
   "id": "35e7eea3",
   "metadata": {},
   "outputs": [],
   "source": [
    "# tup1 = ('we are here','i am fine')\n",
    "# tup2 = ()\n",
    "# for string in tup1:\n",
    "#     tup3 = string.replace(\" \",\"\")\n",
    "#     tup2 += (tup3,)\n",
    "# print(tup2)"
   ]
  },
  {
   "cell_type": "markdown",
   "id": "06b899a9",
   "metadata": {},
   "source": [
    "16) Create a function to replace all occurrences of a word in each string of a tuple with another word."
   ]
  },
  {
   "cell_type": "code",
   "execution_count": 26,
   "id": "d36f781a",
   "metadata": {},
   "outputs": [
    {
     "name": "stdout",
     "output_type": "stream",
     "text": [
      "('apple is a vegetable', 'banana is a vegetable', 'orange is a vegetable', 'grape is a vegetable')\n"
     ]
    }
   ],
   "source": [
    "def replace_word(tuple_of_strings, old_word, new_word):\n",
    "    replaced_strings = tuple(string.replace(old_word, new_word) for string in tuple_of_strings)\n",
    "    return replaced_strings\n",
    "\n",
    "tuple_of_strings = (\"apple is a fruit\", \"banana is a fruit\", \"orange is a fruit\", \"grape is a fruit\")\n",
    "old_word = \"fruit\"\n",
    "new_word = \"vegetable\"\n",
    "replaced_tuple = replace_word(tuple_of_strings, old_word, new_word)\n",
    "print(replaced_tuple)\n"
   ]
  },
  {
   "cell_type": "markdown",
   "id": "689bdeff",
   "metadata": {},
   "source": [
    "17) Develop a program to find the shortest string in a tuple."
   ]
  },
  {
   "cell_type": "code",
   "execution_count": 14,
   "id": "5239c5ac",
   "metadata": {},
   "outputs": [
    {
     "name": "stdout",
     "output_type": "stream",
     "text": [
      "The shortest string is: guva\n"
     ]
    }
   ],
   "source": [
    "tuple1 = ('apple', 'banana', 'orange', 'grape','guva')\n",
    "shortest_string = tuple1[0]\n",
    "for string in tuple1[1:]:\n",
    "    if len(string) < len(shortest_string):\n",
    "        shortest_string = string\n",
    "\n",
    "print(\"The shortest string is:\", shortest_string)\n",
    "\n"
   ]
  },
  {
   "cell_type": "markdown",
   "id": "66119c06",
   "metadata": {},
   "source": [
    "18) Implement a function to check if all strings in a tuple contain only alphanumeric characters."
   ]
  },
  {
   "cell_type": "code",
   "execution_count": 27,
   "id": "a5b2183e",
   "metadata": {},
   "outputs": [
    {
     "name": "stdout",
     "output_type": "stream",
     "text": [
      "True\n"
     ]
    }
   ],
   "source": [
    "def all_alphanumeric(tuple_of_strings):\n",
    "    return all(string.isalnum() for string in tuple_of_strings)\n",
    "\n",
    "tuple_of_strings1 = (\"hello123\", \"world456\", \"openai789\")\n",
    "print(all_alphanumeric(tuple_of_strings1)) \n"
   ]
  },
  {
   "cell_type": "markdown",
   "id": "7820ee0d",
   "metadata": {},
   "source": [
    "19) Write a program that counts the number of words in each string of a tuple."
   ]
  },
  {
   "cell_type": "code",
   "execution_count": 30,
   "id": "1f5042e5",
   "metadata": {},
   "outputs": [
    {
     "name": "stdout",
     "output_type": "stream",
     "text": [
      "apple is a fruit : 4\n",
      "banana is not a veggie : 5\n",
      "orange is fruit : 3\n",
      "grape is a fruit : 4\n"
     ]
    }
   ],
   "source": [
    "tuple_of_strings = (\"apple is a fruit\", \"banana is not a veggie\", \"orange is fruit\", \"grape is a fruit\")\n",
    "for string in tuple_of_strings:\n",
    "    words = string.split()\n",
    "    word_count = len(words)\n",
    "    print(string,\":\",word_count)\n",
    "    "
   ]
  },
  {
   "cell_type": "markdown",
   "id": "31d16a6c",
   "metadata": {},
   "source": [
    "20) Create a function that converts each string in a tuple to lowercase."
   ]
  },
  {
   "cell_type": "code",
   "execution_count": 30,
   "id": "bf9c2d87",
   "metadata": {},
   "outputs": [
    {
     "name": "stdout",
     "output_type": "stream",
     "text": [
      "('apple', 'banana', 'orange', 'grape')\n"
     ]
    }
   ],
   "source": [
    "def convert_to_lowercase(tuple_of_strings):\n",
    "    lowercase_strings = tuple(string.lower() for string in tuple_of_strings)\n",
    "    return lowercase_strings\n",
    "tuple_of_strings = (\"Apple\", \"Banana\", \"Orange\", \"Grape\")\n",
    "lowercase_tuple = convert_to_lowercase(tuple_of_strings)\n",
    "print(lowercase_tuple)\n"
   ]
  },
  {
   "cell_type": "markdown",
   "id": "cbacbedd",
   "metadata": {},
   "source": [
    "21) Write a program to count the frequency of each character in a given string and store the results in a dictionary.\n"
   ]
  },
  {
   "cell_type": "code",
   "execution_count": 1,
   "id": "49bb26aa",
   "metadata": {},
   "outputs": [
    {
     "name": "stdout",
     "output_type": "stream",
     "text": [
      "Enter a string: i got placed finally\n",
      "Character frequencies:\n",
      " 'i': 2 times\n",
      " ' ': 3 times\n",
      " 'g': 1 times\n",
      " 'o': 1 times\n",
      " 't': 1 times\n",
      " 'p': 1 times\n",
      " 'l': 3 times\n",
      " 'a': 2 times\n",
      " 'c': 1 times\n",
      " 'e': 1 times\n",
      " 'd': 1 times\n",
      " 'f': 1 times\n",
      " 'n': 1 times\n",
      " 'y': 1 times\n"
     ]
    }
   ],
   "source": [
    "str1 = input(\"Enter a string: \")\n",
    "char_frequency = {}\n",
    "for char in str1:\n",
    "    if char in char_frequency:\n",
    "        char_frequency[char] += 1\n",
    "    else:\n",
    "        char_frequency[char] = 1\n",
    "print(\"Character frequencies:\")\n",
    "for char, frequency in char_frequency.items():\n",
    "    print(f\" '{char}': {frequency} times\")\n"
   ]
  },
  {
   "cell_type": "markdown",
   "id": "cc6839d5",
   "metadata": {},
   "source": [
    "***22) Create a function that takes a dictionary as input and returns the dictionary sorted by values in ascending order."
   ]
  },
  {
   "cell_type": "code",
   "execution_count": null,
   "id": "28101aa7",
   "metadata": {},
   "outputs": [],
   "source": []
  },
  {
   "cell_type": "markdown",
   "id": "6bc9d695",
   "metadata": {},
   "source": [
    "23) Implement a program to merge two dictionaries into a single dictionary."
   ]
  },
  {
   "cell_type": "code",
   "execution_count": 8,
   "id": "fa18196c",
   "metadata": {},
   "outputs": [
    {
     "name": "stdout",
     "output_type": "stream",
     "text": [
      "Merged dictionary: {'apple': 5, 'banana': 2, 'orange': 3, 'mango': 4, 'berry': 3}\n"
     ]
    }
   ],
   "source": [
    "dict1 = {'apple':1,'banana':2,'orange':3}\n",
    "dict2 = {'mango':4,'apple':5,'berry':3}\n",
    "result = dict1.copy()\n",
    "result.update(dict2)\n",
    "\n",
    "print(\"Merged dictionary:\", result)\n"
   ]
  },
  {
   "cell_type": "markdown",
   "id": "ec0fe03e",
   "metadata": {},
   "source": [
    "24) Write a function to find the key with the maximum value in a dictionary."
   ]
  },
  {
   "cell_type": "code",
   "execution_count": 35,
   "id": "7b72c73e",
   "metadata": {},
   "outputs": [
    {
     "name": "stdout",
     "output_type": "stream",
     "text": [
      "b\n"
     ]
    }
   ],
   "source": [
    "def find_max_value_key(dict1):\n",
    "    if not dict1:  \n",
    "        return None\n",
    "    max_value = max(dict1.values())  \n",
    "    max_value_keys = [key for key, value in dict1.items() if value == max_value]  \n",
    "    return max_value_keys[0]  \n",
    "\n",
    "dict1 = {'a': 10, 'b': 20, 'c': 15}\n",
    "print(find_max_value_key(dict1))  "
   ]
  },
  {
   "cell_type": "markdown",
   "id": "eae8fd2e",
   "metadata": {},
   "source": [
    "25) Create a program to remove duplicate values from a dictionary."
   ]
  },
  {
   "cell_type": "code",
   "execution_count": 31,
   "id": "ea2feb13",
   "metadata": {},
   "outputs": [
    {
     "name": "stdout",
     "output_type": "stream",
     "text": [
      "Original Dictionary: {'a': 1, 'b': 2, 'c': 1, 'd': 3, 'e': 2}\n",
      "Dictionary with Duplicate Values Removed: {'a': 1, 'b': 2, 'd': 3}\n"
     ]
    }
   ],
   "source": [
    "input_dict = {'a': 1, 'b': 2, 'c': 1, 'd': 3, 'e': 2}\n",
    "unique_values = set()\n",
    "unique_dict = {}\n",
    "for key, value in input_dict.items():\n",
    "    if value not in unique_values:\n",
    "        unique_values.add(value)\n",
    "        unique_dict[key] = value\n",
    "\n",
    "print(\"Original Dictionary:\", input_dict)\n",
    "print(\"Dictionary with Duplicate Values Removed:\", unique_dict)\n"
   ]
  },
  {
   "cell_type": "markdown",
   "id": "71d290f0",
   "metadata": {},
   "source": [
    "26) Implement a function to check if two dictionaries are equal."
   ]
  },
  {
   "cell_type": "code",
   "execution_count": 33,
   "id": "8a78b6b8",
   "metadata": {},
   "outputs": [
    {
     "name": "stdout",
     "output_type": "stream",
     "text": [
      "True\n"
     ]
    }
   ],
   "source": [
    "def two_dicts_equal(dict1, dict2):\n",
    "    if set(dict1.keys()) != set(dict2.keys()):\n",
    "        return False\n",
    "    for key in dict1:\n",
    "        if dict1[key] != dict2[key]:\n",
    "            return False\n",
    "    return True\n",
    "\n",
    "dict1 = {'a': 1, 'b': 2, 'c': 3}\n",
    "dict2 = {'a': 1, 'b': 2, 'c': 3}\n",
    "print(two_dicts_equal(dict1, dict2))  \n"
   ]
  },
  {
   "cell_type": "markdown",
   "id": "01e79c29",
   "metadata": {},
   "source": [
    "27) Write a program to convert a dictionary into a list of tuples."
   ]
  },
  {
   "cell_type": "code",
   "execution_count": 4,
   "id": "2109790a",
   "metadata": {},
   "outputs": [
    {
     "name": "stdout",
     "output_type": "stream",
     "text": [
      "[('a', 1), ('b', 2), ('c', 3)]\n"
     ]
    }
   ],
   "source": [
    "dict1 = {'a': 1, 'b':2, 'c': 3}\n",
    "list1 = list(dict1.items())\n",
    "print(list1)\n"
   ]
  },
  {
   "cell_type": "markdown",
   "id": "d0395d08",
   "metadata": {},
   "source": [
    "***28) Create a function that returns a dictionary containing only the keys common to two given dictionaries."
   ]
  },
  {
   "cell_type": "code",
   "execution_count": null,
   "id": "9279b03b",
   "metadata": {},
   "outputs": [],
   "source": []
  },
  {
   "cell_type": "markdown",
   "id": "c5263ddf",
   "metadata": {},
   "source": [
    "29) Implement a program to calculate the sum of all values in a dictionary."
   ]
  },
  {
   "cell_type": "code",
   "execution_count": 8,
   "id": "90d69e17",
   "metadata": {},
   "outputs": [
    {
     "name": "stdout",
     "output_type": "stream",
     "text": [
      "sum of values in dict1: 6\n"
     ]
    }
   ],
   "source": [
    "dict1 = {'a': 1, 'b':2, 'c': 3}\n",
    "all_sum = 0\n",
    "for value in dict1.values():\n",
    "    all_sum = all_sum + value\n",
    "print(\"sum of values in dict1:\",all_sum)\n",
    "    \n"
   ]
  },
  {
   "cell_type": "markdown",
   "id": "8f9187fe",
   "metadata": {},
   "source": [
    "30) Write a function to remove a specific key from a dictionary."
   ]
  },
  {
   "cell_type": "code",
   "execution_count": 57,
   "id": "b853b93e",
   "metadata": {},
   "outputs": [
    {
     "name": "stdout",
     "output_type": "stream",
     "text": [
      "Dictionary after removal: {'a': 1, 'c': 3}\n"
     ]
    }
   ],
   "source": [
    "def remove_key(dictionary, key_to_remove):\n",
    "    if key_to_remove in dictionary:\n",
    "        del dictionary[key_to_remove]\n",
    "        return True\n",
    "    else:\n",
    "        return False\n",
    "\n",
    "my_dict = {'a': 1, 'b': 2, 'c': 3}\n",
    "key_to_remove = 'b'\n",
    "removed = remove_key(my_dict, key_to_remove)\n",
    "print(\"Dictionary after removal:\", my_dict)\n"
   ]
  },
  {
   "cell_type": "markdown",
   "id": "9f027d42",
   "metadata": {},
   "source": [
    "***31) Create a program to find the most common element in a dictionary."
   ]
  },
  {
   "cell_type": "code",
   "execution_count": null,
   "id": "98e4c0c5",
   "metadata": {},
   "outputs": [],
   "source": [
    "\n"
   ]
  },
  {
   "cell_type": "markdown",
   "id": "bc5c96d3",
   "metadata": {},
   "source": [
    "32) Implement a function to get the key of a specified value from a dictionary."
   ]
  },
  {
   "cell_type": "code",
   "execution_count": 61,
   "id": "88f8123b",
   "metadata": {},
   "outputs": [
    {
     "name": "stdout",
     "output_type": "stream",
     "text": [
      "key of a specified value from my_dict: b\n"
     ]
    }
   ],
   "source": [
    "def get_key_from_value(dictionary, value_to_find):\n",
    "    for key, value in dictionary.items():\n",
    "        if value == value_to_find:\n",
    "            return key\n",
    "    return None\n",
    "\n",
    "my_dict = {'a': 1, 'b': 2, 'c': 3}\n",
    "value_to_find = 2\n",
    "key = get_key_from_value(my_dict, value_to_find)\n",
    "print(\"key of a specified value from my_dict:\",key)\n"
   ]
  },
  {
   "cell_type": "markdown",
   "id": "ce3b5b9a",
   "metadata": {},
   "source": [
    "33) Write a program to find the union of two dictionaries."
   ]
  },
  {
   "cell_type": "code",
   "execution_count": 14,
   "id": "e02f8da2",
   "metadata": {},
   "outputs": [
    {
     "name": "stdout",
     "output_type": "stream",
     "text": [
      "{'a': 2, 'b': 2, 'd': 1, 'f': 3}\n"
     ]
    }
   ],
   "source": [
    "# if dict have overlapping keys,values from dict2 and overwrite with dict1\n",
    "dict1 = {'a': 1, 'b':2, 'd': 4}\n",
    "dict2 = {'d': 1, 'a':2, 'f': 3}\n",
    "union_dict = dict1.copy()\n",
    "union_dict.update(dict2)\n",
    "print(union_dict)\n"
   ]
  },
  {
   "cell_type": "markdown",
   "id": "0a530122",
   "metadata": {},
   "source": [
    "34) Create a function to find the difference between two dictionaries."
   ]
  },
  {
   "cell_type": "code",
   "execution_count": 53,
   "id": "17f335a8",
   "metadata": {},
   "outputs": [
    {
     "name": "stdout",
     "output_type": "stream",
     "text": [
      "Keys present in dict1 but not in dict2: {'a'}\n",
      "Keys present in dict2 but not in dict1: {'d'}\n"
     ]
    }
   ],
   "source": [
    "def find_key_differences(dict1, dict2):\n",
    "    keys_difference_dict1 = set(dict1.keys()) - set(dict2.keys())\n",
    "    keys_difference_dict2 = set(dict2.keys()) - set(dict1.keys())\n",
    "    return keys_difference_dict1, keys_difference_dict2\n",
    "\n",
    "dict1 = {'a': 1, 'b': 2, 'c': 3}\n",
    "dict2 = {'b': 2, 'c': 3, 'd': 4}\n",
    "keys_difference_dict1, keys_difference_dict2 = find_key_differences(dict1, dict2)\n",
    "print(\"Keys present in dict1 but not in dict2:\", keys_difference_dict1)\n",
    "print(\"Keys present in dict2 but not in dict1:\", keys_difference_dict2)\n"
   ]
  },
  {
   "cell_type": "markdown",
   "id": "9cf1ec28",
   "metadata": {},
   "source": [
    "35) Implement a program to find the intersection of two dictionaries."
   ]
  },
  {
   "cell_type": "code",
   "execution_count": 21,
   "id": "16731423",
   "metadata": {},
   "outputs": [
    {
     "name": "stdout",
     "output_type": "stream",
     "text": [
      "{'a': 2, 'd': 1}\n"
     ]
    }
   ],
   "source": [
    "dict1 = {'a': 1, 'b':2, 'd': 4}\n",
    "dict2 = {'d': 1, 'a':2, 'f': 3}\n",
    "intersection_dict = {}\n",
    "for key in dict1.keys():\n",
    "    if key in dict2:\n",
    "        intersection_dict[key] = dict2[key]\n",
    "print(intersection_dict)\n"
   ]
  },
  {
   "cell_type": "markdown",
   "id": "886a7b58",
   "metadata": {},
   "source": [
    "36) Write a function to check if a given key already exists in a dictionary."
   ]
  },
  {
   "cell_type": "code",
   "execution_count": 64,
   "id": "8c6198f5",
   "metadata": {},
   "outputs": [
    {
     "name": "stdout",
     "output_type": "stream",
     "text": [
      "key exists in dictionary\n"
     ]
    }
   ],
   "source": [
    "def key_exists(my_dict, key_to_check):\n",
    "    return key_to_check in my_dict\n",
    "my_dict = {'a': 1, 'b': 2, 'c': 3}\n",
    "key_to_check = 'b'\n",
    "if key_exists(my_dict, key_to_check):\n",
    "    print(\"key exists in dictionary\")\n",
    "else:\n",
    "    print(\"key does not exist in dictionary\")"
   ]
  },
  {
   "cell_type": "markdown",
   "id": "f90c1c6d",
   "metadata": {},
   "source": [
    "37) Create a program to find the length of the longest key in a dictionary."
   ]
  },
  {
   "cell_type": "code",
   "execution_count": 62,
   "id": "f785a9e1",
   "metadata": {},
   "outputs": [
    {
     "name": "stdout",
     "output_type": "stream",
     "text": [
      "Length of the longest key in the dictionary: 6\n"
     ]
    }
   ],
   "source": [
    "my_dict = {'apple': 1, 'banana': 2, 'orange': 3, 'kiwi': 4}\n",
    "max_length = 0\n",
    "for key in my_dict.keys():\n",
    "    if len(key) > max_length:\n",
    "        max_length = len(key)\n",
    "print(\"Length of the longest key in the dictionary:\", max_length)\n"
   ]
  },
  {
   "cell_type": "markdown",
   "id": "3ef30b2f",
   "metadata": {},
   "source": [
    "38) Implement a function to update a dictionary with another dictionary."
   ]
  },
  {
   "cell_type": "code",
   "execution_count": 65,
   "id": "062c7460",
   "metadata": {},
   "outputs": [
    {
     "name": "stdout",
     "output_type": "stream",
     "text": [
      "Updated dictionary: {'a': 1, 'b': 3, 'c': 4}\n"
     ]
    }
   ],
   "source": [
    "def update_dictionary(original_dict, update_dict):\n",
    "    original_dict.update(update_dict)\n",
    "    return original_dict\n",
    "original_dict = {'a': 1, 'b': 2}\n",
    "update_dict = {'b': 3, 'c': 4}\n",
    "updated_dict = update_dictionary(original_dict, update_dict)\n",
    "print(\"Updated dictionary:\",updated_dict)\n"
   ]
  },
  {
   "cell_type": "markdown",
   "id": "b1d3d529",
   "metadata": {},
   "source": [
    "***39) Write a program to create a dictionary from a list of keys and a single value."
   ]
  },
  {
   "cell_type": "code",
   "execution_count": null,
   "id": "60e3aad8",
   "metadata": {},
   "outputs": [],
   "source": []
  },
  {
   "cell_type": "markdown",
   "id": "efa533b2",
   "metadata": {},
   "source": [
    "***40) Create a function to convert a dictionary of lists into a list of dictionaries."
   ]
  },
  {
   "cell_type": "code",
   "execution_count": null,
   "id": "099fa16a",
   "metadata": {},
   "outputs": [],
   "source": []
  },
  {
   "cell_type": "markdown",
   "id": "542122ac",
   "metadata": {},
   "source": [
    "***41) Implement a program to extract a given number of randomly selected items from a dictionary."
   ]
  },
  {
   "cell_type": "code",
   "execution_count": null,
   "id": "bdd51281",
   "metadata": {},
   "outputs": [],
   "source": []
  },
  {
   "cell_type": "markdown",
   "id": "6de50fe7",
   "metadata": {},
   "source": [
    "***42) Write a function to sort a dictionary by keys in descending order."
   ]
  },
  {
   "cell_type": "code",
   "execution_count": null,
   "id": "1da98f9b",
   "metadata": {},
   "outputs": [],
   "source": []
  },
  {
   "cell_type": "markdown",
   "id": "a2bcfe0c",
   "metadata": {},
   "source": [
    "***43) Create a program to filter a dictionary based on a given condition."
   ]
  },
  {
   "cell_type": "code",
   "execution_count": null,
   "id": "54367c9b",
   "metadata": {},
   "outputs": [],
   "source": []
  },
  {
   "cell_type": "markdown",
   "id": "5911ba10",
   "metadata": {},
   "source": [
    "44) Implement a function to reverse the keys and values in a dictionary."
   ]
  },
  {
   "cell_type": "code",
   "execution_count": 66,
   "id": "d36113d9",
   "metadata": {},
   "outputs": [
    {
     "name": "stdout",
     "output_type": "stream",
     "text": [
      "Original dictionary: {'a': 1, 'b': 2, 'c': 3}\n",
      "Reversed dictionary: {1: 'a', 2: 'b', 3: 'c'}\n"
     ]
    }
   ],
   "source": [
    "def reverse_dict(dictionary):\n",
    "    return {value: key for key, value in dictionary.items()}\n",
    "my_dict = {'a': 1, 'b': 2, 'c': 3}\n",
    "reversed_dict = reverse_dict(my_dict)\n",
    "print(\"Original dictionary:\",my_dict)\n",
    "print(\"Reversed dictionary:\",reversed_dict)"
   ]
  },
  {
   "cell_type": "markdown",
   "id": "d9913371",
   "metadata": {},
   "source": [
    "45) Write a program to find the difference between two dictionaries based on keys."
   ]
  },
  {
   "cell_type": "code",
   "execution_count": 52,
   "id": "b1af3081",
   "metadata": {},
   "outputs": [
    {
     "name": "stdout",
     "output_type": "stream",
     "text": [
      "Keys present in dict1 but not in dict2: {'a'}\n",
      "Keys present in dict2 but not in dict1: {'d'}\n"
     ]
    }
   ],
   "source": [
    "dict1 = {'a': 1, 'b': 2, 'c': 3}\n",
    "dict2 = {'b': 2, 'c': 3, 'd': 4}\n",
    "keys_difference_dict1 = set(dict1.keys()) - set(dict2.keys())\n",
    "keys_difference_dict2 = set(dict2.keys()) - set(dict1.keys())\n",
    "print(\"Keys present in dict1 but not in dict2:\", keys_difference_dict1)\n",
    "print(\"Keys present in dict2 but not in dict1:\", keys_difference_dict2)\n"
   ]
  },
  {
   "cell_type": "markdown",
   "id": "ad38b742",
   "metadata": {},
   "source": [
    "46) Create a function to find the second largest value in a dictionary."
   ]
  },
  {
   "cell_type": "code",
   "execution_count": 48,
   "id": "0d98e5ab",
   "metadata": {},
   "outputs": [
    {
     "name": "stdout",
     "output_type": "stream",
     "text": [
      "second largest value in the dictionary: 15\n"
     ]
    }
   ],
   "source": [
    "def second_largest_value(dictionary):\n",
    "    unique_values = list(set(dictionary.values()))\n",
    "    unique_values.sort(reverse= True)\n",
    "    return unique_values[1]\n",
    "\n",
    "my_dict = {'a': 10, 'b': 10, 'c': 15, 'd': 20, 'd': 25}\n",
    "second_largest = second_largest_value(my_dict)\n",
    "print(\"second largest value in the dictionary:\",second_largest)\n"
   ]
  },
  {
   "cell_type": "markdown",
   "id": "887808f0",
   "metadata": {},
   "source": [
    "47) Implement a program to create a dictionary from two lists, one containing keys and the other containing values."
   ]
  },
  {
   "cell_type": "code",
   "execution_count": 13,
   "id": "9eb2a451",
   "metadata": {},
   "outputs": [
    {
     "name": "stdout",
     "output_type": "stream",
     "text": [
      "{'a': 1, 'b': 2, 'c': 3, 'd': 4}\n"
     ]
    }
   ],
   "source": [
    "keys_list = ['a', 'b', 'c','d']\n",
    "values_list = [1, 2, 3, 4]\n",
    "# if len(keys_list) != len(values_list):\n",
    "#     print(\"Error: Length of keys list does not match length of values list\")\n",
    "# else:\n",
    "result_dict = {}\n",
    "for i in range(len(keys_list)):\n",
    "    key = keys_list[i]\n",
    "    value = values_list[i]\n",
    "    result_dict[key] = value\n",
    "\n",
    "print(result_dict)\n"
   ]
  },
  {
   "cell_type": "markdown",
   "id": "e3f268d1",
   "metadata": {},
   "source": [
    "***48) Write a function to remove items from a dictionary if a certain condition is met."
   ]
  },
  {
   "cell_type": "code",
   "execution_count": null,
   "id": "a7713ab7",
   "metadata": {},
   "outputs": [],
   "source": []
  },
  {
   "cell_type": "markdown",
   "id": "efec03b5",
   "metadata": {},
   "source": [
    "49) Create a program to check if a dictionary is empty."
   ]
  },
  {
   "cell_type": "code",
   "execution_count": 37,
   "id": "dde1e968",
   "metadata": {},
   "outputs": [
    {
     "name": "stdout",
     "output_type": "stream",
     "text": [
      "dictionary is empty\n"
     ]
    }
   ],
   "source": [
    "dict1 = {}\n",
    "if not dict1:\n",
    "    print(\"dictionary is empty\")\n",
    "else:\n",
    "    print(\"dictionary is not empty\")"
   ]
  },
  {
   "cell_type": "markdown",
   "id": "b8c5ad86",
   "metadata": {},
   "source": [
    "***50) Implement a function to flatten a nested dictionary."
   ]
  },
  {
   "cell_type": "code",
   "execution_count": 39,
   "id": "3c274955",
   "metadata": {},
   "outputs": [],
   "source": [
    "# def flatten_dict(nested_dict, parent_key='', sep='_'):\n",
    "    \n",
    "#     items = []\n",
    "#     for key, value in nested_dict.items():\n",
    "#         new_key = parent_key + sep + key if parent_key else key\n",
    "#         if isinstance(value, dict):\n",
    "#             items.extend(flatten_dict(value, new_key, sep=sep).items())\n",
    "#         else:\n",
    "#             items.append((new_key, value))\n",
    "#     return dict(items)\n",
    "\n",
    "# # Example usage:\n",
    "# nested_dict = {'a': 1, 'b': {'c': 2, 'd': {'e': 3, 'f': 4}}}\n",
    "\n",
    "# flattened_dict = flatten_dict(nested_dict)\n",
    "\n",
    "# print(\"Flattened dictionary:\")\n",
    "# print(flattened_dict)\n"
   ]
  },
  {
   "cell_type": "code",
   "execution_count": null,
   "id": "19c17721",
   "metadata": {},
   "outputs": [],
   "source": []
  }
 ],
 "metadata": {
  "kernelspec": {
   "display_name": "Python 3 (ipykernel)",
   "language": "python",
   "name": "python3"
  },
  "language_info": {
   "codemirror_mode": {
    "name": "ipython",
    "version": 3
   },
   "file_extension": ".py",
   "mimetype": "text/x-python",
   "name": "python",
   "nbconvert_exporter": "python",
   "pygments_lexer": "ipython3",
   "version": "3.9.13"
  }
 },
 "nbformat": 4,
 "nbformat_minor": 5
}
